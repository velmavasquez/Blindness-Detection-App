{
 "cells": [
  {
   "cell_type": "code",
   "execution_count": 1,
   "metadata": {},
   "outputs": [],
   "source": [
    "import numpy as np\n",
    "import pandas as pd\n",
    "import matplotlib.pyplot as plt\n",
    "import os\n",
    "import cv2\n",
    "from tqdm import tqdm\n",
    "import pickle"
   ]
  },
  {
   "cell_type": "code",
   "execution_count": null,
   "metadata": {},
   "outputs": [],
   "source": []
  },
  {
   "cell_type": "markdown",
   "metadata": {},
   "source": [
    "### Read all images in 'train_images' folder and save post process images in training_data array\n",
    "### (can a take about 30 minutes to run)"
   ]
  },
  {
   "cell_type": "code",
   "execution_count": 10,
   "metadata": {},
   "outputs": [
    {
     "name": "stderr",
     "output_type": "stream",
     "text": [
      "100%|██████████| 3662/3662 [06:06<00:00, 11.34it/s]  "
     ]
    },
    {
     "name": "stdout",
     "output_type": "stream",
     "text": [
      "3662\n"
     ]
    },
    {
     "name": "stderr",
     "output_type": "stream",
     "text": [
      "\n"
     ]
    }
   ],
   "source": [
    "path = \"data/train_images/\"\n",
    "N = len(os.listdir(path))\n",
    "\n",
    "training_data = []\n",
    "train_df = pd.read_csv('data/train_4category.csv')\n",
    "IMG_SIZE = 224\n",
    "\n",
    "# Crop image edges\n",
    "def crop_image1(img,tol=7):\n",
    "    mask = img>tol\n",
    "    return img[np.ix_(mask.any(1),mask.any(0))]\n",
    "\n",
    "\n",
    "# Image processing function\n",
    "def create_training_data():\n",
    "\n",
    "    path = \"data/train_images/\"\n",
    "    N = len(os.listdir(path))\n",
    "\n",
    "    for i in tqdm(range(N)):  # iterate over each image\n",
    "\n",
    "        diagnosis = train_df['diagnosis'][i]\n",
    "        image_id = train_df['id_code'][i]\n",
    "\n",
    "        img_array = cv2.imread(f'data/train_images/{image_id}.png')\n",
    "        img_array = cv2.cvtColor(img_array, cv2.COLOR_BGR2GRAY) # conver to gray\n",
    "        img_array = crop_image1(img_array) # crop images\n",
    "        new_array = cv2.resize(img_array, (IMG_SIZE, IMG_SIZE))  # resize images\n",
    "        new_array = cv2.addWeighted ( new_array,4, cv2.GaussianBlur( new_array , (0,0) , IMG_SIZE/10) ,-4 ,128) # adjust brightness\n",
    "        training_data.append([new_array, diagnosis])  # add this to our training_data\n",
    "\n",
    "# Create post processing image array\n",
    "create_training_data()\n",
    "\n",
    "print(len(training_data))"
   ]
  },
  {
   "cell_type": "markdown",
   "metadata": {},
   "source": [
    "### Save pickle file with processes images"
   ]
  },
  {
   "cell_type": "code",
   "execution_count": 15,
   "metadata": {},
   "outputs": [],
   "source": [
    "pickle_out = open(\"data/training_data_brightness2.pickle\",\"wb\")\n",
    "pickle.dump(training_data, pickle_out)\n",
    "pickle_out.close()"
   ]
  },
  {
   "cell_type": "code",
   "execution_count": 14,
   "metadata": {},
   "outputs": [
    {
     "data": {
      "text/plain": [
       "'/Users/amyclaman/Blindness-Detection-App/Notebooks'"
      ]
     },
     "execution_count": 14,
     "metadata": {},
     "output_type": "execute_result"
    }
   ],
   "source": []
  },
  {
   "cell_type": "code",
   "execution_count": null,
   "metadata": {},
   "outputs": [],
   "source": []
  }
 ],
 "metadata": {
  "kernelspec": {
   "display_name": "Python 3",
   "language": "python",
   "name": "python3"
  },
  "language_info": {
   "codemirror_mode": {
    "name": "ipython",
    "version": 3
   },
   "file_extension": ".py",
   "mimetype": "text/x-python",
   "name": "python",
   "nbconvert_exporter": "python",
   "pygments_lexer": "ipython3",
   "version": "3.7.1"
  }
 },
 "nbformat": 4,
 "nbformat_minor": 2
}
