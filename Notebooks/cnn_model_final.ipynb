{
  "nbformat": 4,
  "nbformat_minor": 0,
  "metadata": {
    "colab": {
      "name": "cnn_model_final",
      "version": "0.3.2",
      "provenance": [],
      "collapsed_sections": [],
      "machine_shape": "hm"
    },
    "kernelspec": {
      "name": "python3",
      "display_name": "Python 3"
    },
    "accelerator": "GPU"
  },
  "cells": [
    {
      "cell_type": "markdown",
      "metadata": {
        "id": "r-KwYYHeo5Fj",
        "colab_type": "text"
      },
      "source": [
        "## This notebook is meant to be run from COLAB"
      ]
    },
    {
      "cell_type": "code",
      "metadata": {
        "id": "ooBBic87XNw9",
        "colab_type": "code",
        "outputId": "0510895c-8d6c-4fa1-e793-53707b7b4c6b",
        "colab": {
          "base_uri": "https://localhost:8080/",
          "height": 661
        }
      },
      "source": [
        "# Downgrade to TF 1.13.1\n",
        "!pip install tensorflow-gpu==1.13.1"
      ],
      "execution_count": 0,
      "outputs": [
        {
          "output_type": "stream",
          "text": [
            "Collecting tensorflow-gpu==1.13.1\n",
            "\u001b[?25l  Downloading https://files.pythonhosted.org/packages/7b/b1/0ad4ae02e17ddd62109cd54c291e311c4b5fd09b4d0678d3d6ce4159b0f0/tensorflow_gpu-1.13.1-cp36-cp36m-manylinux1_x86_64.whl (345.2MB)\n",
            "\u001b[K     |████████████████████████████████| 345.2MB 1.4MB/s \n",
            "\u001b[?25hRequirement already satisfied: gast>=0.2.0 in /usr/local/lib/python3.6/dist-packages (from tensorflow-gpu==1.13.1) (0.2.2)\n",
            "Requirement already satisfied: numpy>=1.13.3 in /usr/local/lib/python3.6/dist-packages (from tensorflow-gpu==1.13.1) (1.16.4)\n",
            "Requirement already satisfied: protobuf>=3.6.1 in /usr/local/lib/python3.6/dist-packages (from tensorflow-gpu==1.13.1) (3.7.1)\n",
            "Requirement already satisfied: keras-preprocessing>=1.0.5 in /usr/local/lib/python3.6/dist-packages (from tensorflow-gpu==1.13.1) (1.1.0)\n",
            "Requirement already satisfied: termcolor>=1.1.0 in /usr/local/lib/python3.6/dist-packages (from tensorflow-gpu==1.13.1) (1.1.0)\n",
            "Requirement already satisfied: grpcio>=1.8.6 in /usr/local/lib/python3.6/dist-packages (from tensorflow-gpu==1.13.1) (1.15.0)\n",
            "Collecting tensorboard<1.14.0,>=1.13.0 (from tensorflow-gpu==1.13.1)\n",
            "\u001b[?25l  Downloading https://files.pythonhosted.org/packages/0f/39/bdd75b08a6fba41f098b6cb091b9e8c7a80e1b4d679a581a0ccd17b10373/tensorboard-1.13.1-py3-none-any.whl (3.2MB)\n",
            "\u001b[K     |████████████████████████████████| 3.2MB 27.5MB/s \n",
            "\u001b[?25hRequirement already satisfied: six>=1.10.0 in /usr/local/lib/python3.6/dist-packages (from tensorflow-gpu==1.13.1) (1.12.0)\n",
            "Requirement already satisfied: astor>=0.6.0 in /usr/local/lib/python3.6/dist-packages (from tensorflow-gpu==1.13.1) (0.8.0)\n",
            "Collecting tensorflow-estimator<1.14.0rc0,>=1.13.0 (from tensorflow-gpu==1.13.1)\n",
            "\u001b[?25l  Downloading https://files.pythonhosted.org/packages/bb/48/13f49fc3fa0fdf916aa1419013bb8f2ad09674c275b4046d5ee669a46873/tensorflow_estimator-1.13.0-py2.py3-none-any.whl (367kB)\n",
            "\u001b[K     |████████████████████████████████| 368kB 51.0MB/s \n",
            "\u001b[?25hRequirement already satisfied: wheel>=0.26 in /usr/local/lib/python3.6/dist-packages (from tensorflow-gpu==1.13.1) (0.33.4)\n",
            "Requirement already satisfied: keras-applications>=1.0.6 in /usr/local/lib/python3.6/dist-packages (from tensorflow-gpu==1.13.1) (1.0.8)\n",
            "Requirement already satisfied: absl-py>=0.1.6 in /usr/local/lib/python3.6/dist-packages (from tensorflow-gpu==1.13.1) (0.7.1)\n",
            "Requirement already satisfied: setuptools in /usr/local/lib/python3.6/dist-packages (from protobuf>=3.6.1->tensorflow-gpu==1.13.1) (41.0.1)\n",
            "Requirement already satisfied: werkzeug>=0.11.15 in /usr/local/lib/python3.6/dist-packages (from tensorboard<1.14.0,>=1.13.0->tensorflow-gpu==1.13.1) (0.15.5)\n",
            "Requirement already satisfied: markdown>=2.6.8 in /usr/local/lib/python3.6/dist-packages (from tensorboard<1.14.0,>=1.13.0->tensorflow-gpu==1.13.1) (3.1.1)\n",
            "Collecting mock>=2.0.0 (from tensorflow-estimator<1.14.0rc0,>=1.13.0->tensorflow-gpu==1.13.1)\n",
            "  Downloading https://files.pythonhosted.org/packages/05/d2/f94e68be6b17f46d2c353564da56e6fb89ef09faeeff3313a046cb810ca9/mock-3.0.5-py2.py3-none-any.whl\n",
            "Requirement already satisfied: h5py in /usr/local/lib/python3.6/dist-packages (from keras-applications>=1.0.6->tensorflow-gpu==1.13.1) (2.8.0)\n",
            "\u001b[31mERROR: tensorflow 1.14.0 has requirement tensorboard<1.15.0,>=1.14.0, but you'll have tensorboard 1.13.1 which is incompatible.\u001b[0m\n",
            "\u001b[31mERROR: tensorflow 1.14.0 has requirement tensorflow-estimator<1.15.0rc0,>=1.14.0rc0, but you'll have tensorflow-estimator 1.13.0 which is incompatible.\u001b[0m\n",
            "Installing collected packages: tensorboard, mock, tensorflow-estimator, tensorflow-gpu\n",
            "  Found existing installation: tensorboard 1.14.0\n",
            "    Uninstalling tensorboard-1.14.0:\n",
            "      Successfully uninstalled tensorboard-1.14.0\n",
            "  Found existing installation: tensorflow-estimator 1.14.0\n",
            "    Uninstalling tensorflow-estimator-1.14.0:\n",
            "      Successfully uninstalled tensorflow-estimator-1.14.0\n",
            "Successfully installed mock-3.0.5 tensorboard-1.13.1 tensorflow-estimator-1.13.0 tensorflow-gpu-1.13.1\n"
          ],
          "name": "stdout"
        }
      ]
    },
    {
      "cell_type": "code",
      "metadata": {
        "id": "I8zo9eTfcAFE",
        "colab_type": "code",
        "colab": {}
      },
      "source": [
        "import numpy as np\n",
        "import pandas as pd\n",
        "import matplotlib.pyplot as plt\n",
        "import os\n",
        "import cv2\n",
        "from tqdm import tqdm\n",
        "\n",
        "import pickle\n",
        "import random\n",
        "from sklearn.model_selection import train_test_split\n"
      ],
      "execution_count": 0,
      "outputs": []
    },
    {
      "cell_type": "markdown",
      "metadata": {
        "id": "uKhH-1UMolz7",
        "colab_type": "text"
      },
      "source": [
        "##Mounting GDrive"
      ]
    },
    {
      "cell_type": "code",
      "metadata": {
        "id": "-KuqsMDLcyjg",
        "colab_type": "code",
        "outputId": "46d77f8a-bca4-4f18-959a-cd6a40690077",
        "colab": {
          "base_uri": "https://localhost:8080/",
          "height": 124
        }
      },
      "source": [
        "# Run this cell to mount your Google Drive.\n",
        "from google.colab import drive\n",
        "drive.mount('/content/drive')\n",
        "# drive.mount('/content/drive/My\\ Drive/Colab\\ Notebooks/IDRID')"
      ],
      "execution_count": 0,
      "outputs": [
        {
          "output_type": "stream",
          "text": [
            "Go to this URL in a browser: https://accounts.google.com/o/oauth2/auth?client_id=947318989803-6bn6qk8qdgf4n4g3pfee6491hc0brc4i.apps.googleusercontent.com&redirect_uri=urn%3Aietf%3Awg%3Aoauth%3A2.0%3Aoob&scope=email%20https%3A%2F%2Fwww.googleapis.com%2Fauth%2Fdocs.test%20https%3A%2F%2Fwww.googleapis.com%2Fauth%2Fdrive%20https%3A%2F%2Fwww.googleapis.com%2Fauth%2Fdrive.photos.readonly%20https%3A%2F%2Fwww.googleapis.com%2Fauth%2Fpeopleapi.readonly&response_type=code\n",
            "\n",
            "Enter your authorization code:\n",
            "··········\n",
            "Mounted at /content/drive\n"
          ],
          "name": "stdout"
        }
      ]
    },
    {
      "cell_type": "code",
      "metadata": {
        "id": "2q6SZKg-cys3",
        "colab_type": "code",
        "outputId": "0d30826e-8ebb-4252-d7b9-26d9ebf2b7fc",
        "colab": {
          "base_uri": "https://localhost:8080/",
          "height": 35
        }
      },
      "source": [
        "# cd 'My Drive'\n",
        "cd 'drive/My Drive/Colab_Notebooks/IDRID/'"
      ],
      "execution_count": 0,
      "outputs": [
        {
          "output_type": "stream",
          "text": [
            "/content/drive/My Drive/Colab_Notebooks/IDRID\n"
          ],
          "name": "stdout"
        }
      ]
    },
    {
      "cell_type": "code",
      "metadata": {
        "id": "k3s_1xjScyvI",
        "colab_type": "code",
        "outputId": "e048f294-4d94-47fe-e792-c4959330a9ca",
        "colab": {
          "base_uri": "https://localhost:8080/",
          "height": 329
        }
      },
      "source": [
        "ls -l"
      ],
      "execution_count": 0,
      "outputs": [
        {
          "output_type": "stream",
          "text": [
            "total 848071\n",
            "-rw------- 1 root root     43273 Jul  9 16:41 angel_blindness_detection.ipynb\n",
            "-rw------- 1 root root    422616 Jul 23 00:42 cnn1_augmented_extra.h5\n",
            "-rw------- 1 root root    422768 Jul 23 01:51 cnn1_augmented_extra_v2.h5\n",
            "-rw------- 1 root root    645704 Jul 23 02:10 cnn1_augmented_extra_v3.h5\n",
            "-rw------- 1 root root    440672 Jul 24 16:58 cnn2_augmented_extra_seaborn_v1.h5\n",
            "-rw------- 1 root root    645712 Jul 23 21:45 cnn2_augmented_extra_v1.h5\n",
            "-rw------- 1 root root    645704 Jul 24 17:47 cnn2_augmented_extra_v2.h5\n",
            "-rw------- 1 root root   1444536 Jul 25 19:54 cnn3_model_augmented_7-24-2019_trained.h5\n",
            "-rw------- 1 root root    646544 Jul 26 23:55 cnn3_model_augmented_7-25-2019_trained_v2.h5\n",
            "-rw------- 1 root root   4845824 Jul 22 15:37 cnn_trained_augmented_256.h5\n",
            "-rw------- 1 root root    645552 Jul 22 01:41 cnn_trained_augmented.h5\n",
            "-rw------- 1 root root    170162 Jul 26 20:00 model.png\n",
            "-rw------- 1 root root     25072 Jul  7 19:01 test.csv\n",
            "-rw------- 1 root root     54948 Jul  7 19:01 train.csv\n",
            "-rw------- 1 root root 184102877 Jul 10 17:47 training_data_brightness.pickle\n",
            "-rw------- 1 root root 347744753 Jul 24 23:37 training_data_merge.pickle\n",
            "-rw------- 1 root root 325473371 Jul 23 00:29 training_data_new_merge.pickle\n"
          ],
          "name": "stdout"
        }
      ]
    },
    {
      "cell_type": "markdown",
      "metadata": {
        "id": "fsXC4yPspZMC",
        "colab_type": "text"
      },
      "source": [
        "## Load image data from pickle file and store it in 'training_data' array"
      ]
    },
    {
      "cell_type": "code",
      "metadata": {
        "id": "suztV4-scyxv",
        "colab_type": "code",
        "colab": {}
      },
      "source": [
        "# pickle_in = open(\"training_data_brightness.pickle\",\"rb\")\n",
        "# training_data_old = pickle.load(pickle_in)\n",
        "\n",
        "pickle_in = open(\"training_data_new_merge.pickle\",\"rb\")\n",
        "training_data = pickle.load(pickle_in)"
      ],
      "execution_count": 0,
      "outputs": []
    },
    {
      "cell_type": "markdown",
      "metadata": {
        "id": "We6-jE6GprYA",
        "colab_type": "text"
      },
      "source": [
        "## Create X_train, X_test, y_train, y_test\n",
        "## This cell must be run each time the model will be trained"
      ]
    },
    {
      "cell_type": "code",
      "metadata": {
        "id": "71k-tzamcTGW",
        "colab_type": "code",
        "colab": {}
      },
      "source": [
        "random.shuffle(training_data)\n",
        "\n",
        "IMG_SIZE = 224\n",
        "\n",
        "X = []\n",
        "y = []\n",
        "\n",
        "# This for loop reads data and creates X and y\n",
        "for features,label in training_data:\n",
        "    X.append(features)\n",
        "    y.append(label)\n",
        "\n",
        "    \n",
        "X = np.array(X).reshape(-1, IMG_SIZE, IMG_SIZE, 1)\n",
        "y = np.array(y).reshape(-1, 1)\n",
        "\n",
        "from sklearn.model_selection import train_test_split\n",
        "X_train, X_test, y_train, y_test = train_test_split(X, y, test_size=0.15)\n"
      ],
      "execution_count": 0,
      "outputs": []
    },
    {
      "cell_type": "markdown",
      "metadata": {
        "id": "5NgXDNzxyw5o",
        "colab_type": "text"
      },
      "source": [
        "## Specify h5 file name for traine model "
      ]
    },
    {
      "cell_type": "code",
      "metadata": {
        "id": "eOdjcYuIxdbd",
        "colab_type": "code",
        "colab": {}
      },
      "source": [
        "saved_h5 = 'cnn2_augmented_extra_7_29.h5'\n",
        "# weight_dict = {0:0.4057, 1:1.9794, 2:0.7331, 3:3.7948, 4:2.4827}\n",
        "weight_dict = {0:0.7173, 1:0.8087, 2:1.2961, 3:1.2146, 4:1.2902}"
      ],
      "execution_count": 0,
      "outputs": []
    },
    {
      "cell_type": "code",
      "metadata": {
        "id": "9TWE0SQZ-mhE",
        "colab_type": "code",
        "colab": {}
      },
      "source": [
        ""
      ],
      "execution_count": 0,
      "outputs": []
    },
    {
      "cell_type": "code",
      "metadata": {
        "id": "q4_zU5QF-m1S",
        "colab_type": "code",
        "colab": {}
      },
      "source": [
        "from keras.preprocessing.image import ImageDataGenerator\n",
        "\n",
        "datagen = ImageDataGenerator(\n",
        "#     featurewise_center=False,  # set input mean to 0 over the dataset\n",
        "#     samplewise_center=False,  # set each sample mean to 0\n",
        "#     featurewise_std_normalization=False,  # divide inputs by std of the dataset\n",
        "#     samplewise_std_normalization=False,  # divide each input by its std\n",
        "#     zca_whitening=False,  # apply ZCA whitening\n",
        "#     rotation_range=15,  # randomly rotate images in the range (degrees, 0 to 180)\n",
        "#     width_shift_range=0.02,  # randomly shift images horizontally (fraction of total width)\n",
        "#     height_shift_range=0.02,  # randomly shift images vertically (fraction of total height)\n",
        "    horizontal_flip=True,  # randomly flip images\n",
        "    vertical_flip=True)  # randomly flip images\n",
        "\n",
        "datagen.fit(X_train)"
      ],
      "execution_count": 0,
      "outputs": []
    },
    {
      "cell_type": "markdown",
      "metadata": {
        "id": "FG3ERddHuIrS",
        "colab_type": "text"
      },
      "source": [
        "## Train the MODEL"
      ]
    },
    {
      "cell_type": "code",
      "metadata": {
        "id": "Gh-9Bvp2cTPo",
        "colab_type": "code",
        "outputId": "638d0033-2833-4221-a5e5-91b19c3f6595",
        "colab": {
          "base_uri": "https://localhost:8080/",
          "height": 1000
        }
      },
      "source": [
        "import tensorflow as tf\n",
        "from tensorflow.keras.models import Sequential\n",
        "from tensorflow.keras.layers import Dense, Dropout, Activation, Flatten\n",
        "from tensorflow.keras.layers import Conv2D, MaxPooling2D, BatchNormalization\n",
        "from keras.utils import to_categorical\n",
        "from tensorflow.keras.callbacks import EarlyStopping, ModelCheckpoint, ReduceLROnPlateau\n",
        "\n",
        "\n",
        "X_train = X_train/255.0\n",
        "y_train = to_categorical(y_train)\n",
        "X_test = X_test/255.0\n",
        "y_test = to_categorical(y_test)\n",
        "\n",
        "\n",
        "# Here is the model\n",
        "model = Sequential()\n",
        "\n",
        "model.add(Conv2D(16, (3, 3), input_shape=X_train.shape[1:]))\n",
        "model.add(Activation('relu'))\n",
        "model.add(MaxPooling2D(pool_size=(2, 2)))\n",
        "model.add(Dropout(0.2))\n",
        "\n",
        "model.add(Conv2D(32, (3, 3)))\n",
        "model.add(Activation('relu'))\n",
        "model.add(MaxPooling2D(pool_size=(2, 2)))\n",
        "model.add(Dropout(0.2))\n",
        "\n",
        "model.add(Conv2D(64, (3, 3)))\n",
        "model.add(Activation('relu'))\n",
        "model.add(MaxPooling2D(pool_size=(2, 2)))\n",
        "model.add(Dropout(0.2))\n",
        "\n",
        "model.add(Conv2D(32, (3, 3)))\n",
        "model.add(Activation('relu'))\n",
        "model.add(MaxPooling2D(pool_size=(2, 2)))\n",
        "model.add(Dropout(0.2))\n",
        "\n",
        "model.add(Conv2D(16, (3, 3)))\n",
        "model.add(Activation('relu'))\n",
        "model.add(MaxPooling2D(pool_size=(2, 2)))\n",
        "model.add(Dropout(0.2))\n",
        "\n",
        "model.add(Flatten())\n",
        "\n",
        "model.add(Dense(5))\n",
        "\n",
        "# softmax is commonly used for classification of multiple categories\n",
        "model.add(Activation('softmax'))\n",
        "\n",
        "\n",
        "model.compile(loss='categorical_crossentropy',\n",
        "              optimizer='adam',\n",
        "              metrics=['accuracy'])              \n",
        "\n",
        "\n",
        "earlyStopping = EarlyStopping(monitor='val_loss', patience=25, verbose=0, mode='min')\n",
        "\n",
        "# Input the name of the h5 file to be saved\n",
        "mcp_save = ModelCheckpoint(saved_h5, save_best_only=True, monitor='val_loss', mode='min')\n",
        "\n",
        "\n",
        "\n",
        "history = model.fit_generator(datagen.flow(X_train, y_train, batch_size = 32), epochs=500, validation_data=(X_test, y_test), callbacks=[earlyStopping, mcp_save], class_weight= weight_dict)\n",
        "\n",
        "\n",
        "\n"
      ],
      "execution_count": 0,
      "outputs": [
        {
          "output_type": "stream",
          "text": [
            "WARNING:tensorflow:From /usr/local/lib/python3.6/dist-packages/tensorflow/python/ops/resource_variable_ops.py:435: colocate_with (from tensorflow.python.framework.ops) is deprecated and will be removed in a future version.\n",
            "Instructions for updating:\n",
            "Colocations handled automatically by placer.\n",
            "WARNING:tensorflow:From /usr/local/lib/python3.6/dist-packages/tensorflow/python/keras/layers/core.py:143: calling dropout (from tensorflow.python.ops.nn_ops) with keep_prob is deprecated and will be removed in a future version.\n",
            "Instructions for updating:\n",
            "Please use `rate` instead of `keep_prob`. Rate should be set to `rate = 1 - keep_prob`.\n",
            "WARNING:tensorflow:From /usr/local/lib/python3.6/dist-packages/tensorflow/python/ops/math_ops.py:3066: to_int32 (from tensorflow.python.ops.math_ops) is deprecated and will be removed in a future version.\n",
            "Instructions for updating:\n",
            "Use tf.cast instead.\n",
            "Epoch 1/500\n",
            "972/972 [==============================] - 1s 984us/sample - loss: 1.5317 - acc: 0.3652\n",
            "172/172 [==============================] - 16s 94ms/step - loss: 1.5985 - acc: 0.2623 - val_loss: 1.5317 - val_acc: 0.3652\n",
            "Epoch 2/500\n",
            "972/972 [==============================] - 1s 821us/sample - loss: 1.3674 - acc: 0.4496\n",
            "172/172 [==============================] - 12s 72ms/step - loss: 1.4100 - acc: 0.4251 - val_loss: 1.3687 - val_acc: 0.4496\n",
            "Epoch 3/500\n",
            "972/972 [==============================] - 1s 807us/sample - loss: 1.2731 - acc: 0.4866\n",
            "172/172 [==============================] - 12s 72ms/step - loss: 1.3288 - acc: 0.4693 - val_loss: 1.2727 - val_acc: 0.4866\n",
            "Epoch 4/500\n",
            "972/972 [==============================] - 1s 805us/sample - loss: 1.1929 - acc: 0.5463\n",
            "172/172 [==============================] - 13s 73ms/step - loss: 1.2781 - acc: 0.4980 - val_loss: 1.1921 - val_acc: 0.5463\n",
            "Epoch 5/500\n",
            "972/972 [==============================] - 1s 806us/sample - loss: 1.1555 - acc: 0.5710\n",
            "172/172 [==============================] - 13s 73ms/step - loss: 1.2154 - acc: 0.5245 - val_loss: 1.1544 - val_acc: 0.5710\n",
            "Epoch 6/500\n",
            "972/972 [==============================] - 1s 813us/sample - loss: 1.1233 - acc: 0.5658\n",
            "172/172 [==============================] - 13s 73ms/step - loss: 1.1683 - acc: 0.5569 - val_loss: 1.1217 - val_acc: 0.5658\n",
            "Epoch 7/500\n",
            "972/972 [==============================] - 1s 821us/sample - loss: 1.0572 - acc: 0.6121\n",
            "172/172 [==============================] - 13s 73ms/step - loss: 1.1284 - acc: 0.5749 - val_loss: 1.0542 - val_acc: 0.6121\n",
            "Epoch 8/500\n",
            "972/972 [==============================] - 1s 863us/sample - loss: 0.9874 - acc: 0.6173\n",
            "172/172 [==============================] - 13s 74ms/step - loss: 1.0980 - acc: 0.5934 - val_loss: 0.9843 - val_acc: 0.6173\n",
            "Epoch 9/500\n",
            "972/972 [==============================] - 1s 827us/sample - loss: 1.0493 - acc: 0.5885\n",
            "172/172 [==============================] - 12s 71ms/step - loss: 1.0536 - acc: 0.6027 - val_loss: 1.0452 - val_acc: 0.5885\n",
            "Epoch 10/500\n",
            "972/972 [==============================] - 1s 798us/sample - loss: 0.9328 - acc: 0.6337\n",
            "172/172 [==============================] - 13s 73ms/step - loss: 1.0331 - acc: 0.6189 - val_loss: 0.9282 - val_acc: 0.6337\n",
            "Epoch 11/500\n",
            "972/972 [==============================] - 1s 835us/sample - loss: 0.9149 - acc: 0.6512\n",
            "172/172 [==============================] - 13s 73ms/step - loss: 1.0204 - acc: 0.6147 - val_loss: 0.9125 - val_acc: 0.6512\n",
            "Epoch 12/500\n",
            "972/972 [==============================] - 1s 783us/sample - loss: 0.9007 - acc: 0.6461\n",
            "172/172 [==============================] - 12s 73ms/step - loss: 0.9937 - acc: 0.6292 - val_loss: 0.8963 - val_acc: 0.6461\n",
            "Epoch 13/500\n",
            "972/972 [==============================] - 1s 830us/sample - loss: 0.8671 - acc: 0.6646\n",
            "172/172 [==============================] - 13s 73ms/step - loss: 0.9657 - acc: 0.6305 - val_loss: 0.8626 - val_acc: 0.6646\n",
            "Epoch 14/500\n",
            "972/972 [==============================] - 1s 836us/sample - loss: 0.8831 - acc: 0.6389\n",
            "172/172 [==============================] - 12s 72ms/step - loss: 0.9550 - acc: 0.6449 - val_loss: 0.8773 - val_acc: 0.6389\n",
            "Epoch 15/500\n",
            "972/972 [==============================] - 1s 852us/sample - loss: 0.9039 - acc: 0.6553\n",
            "172/172 [==============================] - 12s 72ms/step - loss: 0.9420 - acc: 0.6545 - val_loss: 0.8989 - val_acc: 0.6553\n",
            "Epoch 16/500\n",
            "972/972 [==============================] - 1s 794us/sample - loss: 0.8335 - acc: 0.6780\n",
            "172/172 [==============================] - 15s 89ms/step - loss: 0.9368 - acc: 0.6474 - val_loss: 0.8299 - val_acc: 0.6780\n",
            "Epoch 17/500\n",
            "972/972 [==============================] - 1s 822us/sample - loss: 0.8788 - acc: 0.6420\n",
            "172/172 [==============================] - 12s 72ms/step - loss: 0.9262 - acc: 0.6614 - val_loss: 0.8770 - val_acc: 0.6420\n",
            "Epoch 18/500\n",
            "972/972 [==============================] - 1s 798us/sample - loss: 0.8389 - acc: 0.6543\n",
            "172/172 [==============================] - 12s 72ms/step - loss: 0.9317 - acc: 0.6559 - val_loss: 0.8329 - val_acc: 0.6543\n",
            "Epoch 19/500\n",
            "972/972 [==============================] - 1s 826us/sample - loss: 0.8209 - acc: 0.6852\n",
            "172/172 [==============================] - 12s 73ms/step - loss: 0.9076 - acc: 0.6569 - val_loss: 0.8152 - val_acc: 0.6852\n",
            "Epoch 20/500\n",
            "972/972 [==============================] - 1s 791us/sample - loss: 0.8168 - acc: 0.6718\n",
            "172/172 [==============================] - 12s 73ms/step - loss: 0.9040 - acc: 0.6692 - val_loss: 0.8117 - val_acc: 0.6718\n",
            "Epoch 21/500\n",
            "972/972 [==============================] - 1s 818us/sample - loss: 0.8029 - acc: 0.6862\n",
            "172/172 [==============================] - 13s 74ms/step - loss: 0.8916 - acc: 0.6687 - val_loss: 0.7990 - val_acc: 0.6862\n",
            "Epoch 22/500\n",
            "972/972 [==============================] - 1s 782us/sample - loss: 0.7791 - acc: 0.6934\n",
            "172/172 [==============================] - 12s 72ms/step - loss: 0.8824 - acc: 0.6776 - val_loss: 0.7735 - val_acc: 0.6934\n",
            "Epoch 23/500\n",
            "972/972 [==============================] - 1s 798us/sample - loss: 0.7806 - acc: 0.6831\n",
            "172/172 [==============================] - 12s 71ms/step - loss: 0.8896 - acc: 0.6778 - val_loss: 0.7756 - val_acc: 0.6831\n",
            "Epoch 24/500\n",
            "972/972 [==============================] - 1s 773us/sample - loss: 0.7683 - acc: 0.6955\n",
            "172/172 [==============================] - 12s 72ms/step - loss: 0.8710 - acc: 0.6807 - val_loss: 0.7651 - val_acc: 0.6955\n",
            "Epoch 25/500\n",
            "972/972 [==============================] - 1s 826us/sample - loss: 0.7721 - acc: 0.6872\n",
            "172/172 [==============================] - 12s 71ms/step - loss: 0.8755 - acc: 0.6852 - val_loss: 0.7658 - val_acc: 0.6872\n",
            "Epoch 26/500\n",
            "972/972 [==============================] - 1s 836us/sample - loss: 0.7543 - acc: 0.6883\n",
            "172/172 [==============================] - 13s 73ms/step - loss: 0.8610 - acc: 0.6847 - val_loss: 0.7500 - val_acc: 0.6883\n",
            "Epoch 27/500\n",
            "972/972 [==============================] - 1s 864us/sample - loss: 0.7421 - acc: 0.7150\n",
            "172/172 [==============================] - 13s 73ms/step - loss: 0.8590 - acc: 0.6787 - val_loss: 0.7368 - val_acc: 0.7150\n",
            "Epoch 28/500\n",
            "972/972 [==============================] - 1s 826us/sample - loss: 0.7395 - acc: 0.7058\n",
            "172/172 [==============================] - 12s 72ms/step - loss: 0.8532 - acc: 0.6872 - val_loss: 0.7354 - val_acc: 0.7058\n",
            "Epoch 29/500\n",
            "972/972 [==============================] - 1s 814us/sample - loss: 0.7501 - acc: 0.7016\n",
            "172/172 [==============================] - 12s 71ms/step - loss: 0.8501 - acc: 0.6879 - val_loss: 0.7445 - val_acc: 0.7016\n",
            "Epoch 30/500\n",
            "972/972 [==============================] - 1s 800us/sample - loss: 0.7373 - acc: 0.7047\n",
            "172/172 [==============================] - 12s 72ms/step - loss: 0.8324 - acc: 0.6925 - val_loss: 0.7334 - val_acc: 0.7047\n",
            "Epoch 31/500\n",
            "972/972 [==============================] - 1s 829us/sample - loss: 0.7395 - acc: 0.7140\n",
            "172/172 [==============================] - 13s 73ms/step - loss: 0.8370 - acc: 0.6916 - val_loss: 0.7331 - val_acc: 0.7140\n",
            "Epoch 32/500\n",
            "972/972 [==============================] - 1s 830us/sample - loss: 0.7631 - acc: 0.6934\n",
            "172/172 [==============================] - 12s 71ms/step - loss: 0.8373 - acc: 0.7027 - val_loss: 0.7624 - val_acc: 0.6934\n",
            "Epoch 33/500\n",
            "972/972 [==============================] - 1s 822us/sample - loss: 0.7268 - acc: 0.7109\n",
            "172/172 [==============================] - 13s 73ms/step - loss: 0.8238 - acc: 0.7017 - val_loss: 0.7213 - val_acc: 0.7109\n",
            "Epoch 34/500\n",
            "972/972 [==============================] - 1s 829us/sample - loss: 0.7354 - acc: 0.7130\n",
            "172/172 [==============================] - 12s 71ms/step - loss: 0.8250 - acc: 0.6977 - val_loss: 0.7323 - val_acc: 0.7130\n",
            "Epoch 35/500\n",
            "972/972 [==============================] - 1s 804us/sample - loss: 0.7300 - acc: 0.7047\n",
            "172/172 [==============================] - 12s 71ms/step - loss: 0.8283 - acc: 0.6992 - val_loss: 0.7271 - val_acc: 0.7047\n",
            "Epoch 36/500\n",
            "972/972 [==============================] - 1s 803us/sample - loss: 0.7245 - acc: 0.7099\n",
            "172/172 [==============================] - 12s 72ms/step - loss: 0.8146 - acc: 0.7036 - val_loss: 0.7202 - val_acc: 0.7099\n",
            "Epoch 37/500\n",
            "972/972 [==============================] - 1s 822us/sample - loss: 0.7193 - acc: 0.7119\n",
            "172/172 [==============================] - 12s 72ms/step - loss: 0.8183 - acc: 0.7003 - val_loss: 0.7161 - val_acc: 0.7119\n",
            "Epoch 38/500\n",
            "972/972 [==============================] - 1s 830us/sample - loss: 0.7003 - acc: 0.7202\n",
            "172/172 [==============================] - 13s 73ms/step - loss: 0.8136 - acc: 0.7030 - val_loss: 0.6987 - val_acc: 0.7202\n",
            "Epoch 39/500\n",
            "972/972 [==============================] - 1s 885us/sample - loss: 0.7066 - acc: 0.7305\n",
            "172/172 [==============================] - 12s 72ms/step - loss: 0.8068 - acc: 0.7090 - val_loss: 0.7002 - val_acc: 0.7305\n",
            "Epoch 40/500\n",
            "972/972 [==============================] - 1s 828us/sample - loss: 0.7215 - acc: 0.7027\n",
            "172/172 [==============================] - 12s 71ms/step - loss: 0.8115 - acc: 0.7065 - val_loss: 0.7160 - val_acc: 0.7027\n",
            "Epoch 41/500\n",
            "972/972 [==============================] - 1s 829us/sample - loss: 0.7183 - acc: 0.7140\n",
            "172/172 [==============================] - 12s 71ms/step - loss: 0.8093 - acc: 0.7090 - val_loss: 0.7143 - val_acc: 0.7140\n",
            "Epoch 42/500\n",
            "972/972 [==============================] - 1s 962us/sample - loss: 0.7211 - acc: 0.6965\n",
            "172/172 [==============================] - 12s 71ms/step - loss: 0.8087 - acc: 0.6972 - val_loss: 0.7164 - val_acc: 0.6965\n",
            "Epoch 43/500\n",
            "972/972 [==============================] - 1s 824us/sample - loss: 0.7083 - acc: 0.7222\n",
            "172/172 [==============================] - 12s 71ms/step - loss: 0.7974 - acc: 0.7112 - val_loss: 0.7039 - val_acc: 0.7222\n",
            "Epoch 44/500\n",
            "972/972 [==============================] - 1s 785us/sample - loss: 0.7050 - acc: 0.7274\n",
            "172/172 [==============================] - 12s 71ms/step - loss: 0.7951 - acc: 0.7146 - val_loss: 0.6998 - val_acc: 0.7274\n",
            "Epoch 45/500\n",
            "972/972 [==============================] - 1s 808us/sample - loss: 0.7211 - acc: 0.7191\n",
            "172/172 [==============================] - 12s 71ms/step - loss: 0.7891 - acc: 0.7141 - val_loss: 0.7135 - val_acc: 0.7191\n",
            "Epoch 46/500\n",
            "972/972 [==============================] - 1s 800us/sample - loss: 0.7038 - acc: 0.7253\n",
            "172/172 [==============================] - 13s 73ms/step - loss: 0.7857 - acc: 0.7125 - val_loss: 0.6962 - val_acc: 0.7253\n",
            "Epoch 47/500\n",
            "972/972 [==============================] - 1s 841us/sample - loss: 0.6945 - acc: 0.7294\n",
            "172/172 [==============================] - 13s 73ms/step - loss: 0.7983 - acc: 0.7128 - val_loss: 0.6878 - val_acc: 0.7294\n",
            "Epoch 48/500\n",
            "972/972 [==============================] - 1s 781us/sample - loss: 0.6897 - acc: 0.7202\n",
            "172/172 [==============================] - 12s 72ms/step - loss: 0.7816 - acc: 0.7219 - val_loss: 0.6840 - val_acc: 0.7202\n",
            "Epoch 49/500\n",
            "972/972 [==============================] - 1s 816us/sample - loss: 0.7146 - acc: 0.7068\n",
            "172/172 [==============================] - 12s 71ms/step - loss: 0.7730 - acc: 0.7254 - val_loss: 0.7080 - val_acc: 0.7068\n",
            "Epoch 50/500\n",
            "972/972 [==============================] - 1s 792us/sample - loss: 0.7111 - acc: 0.7171\n",
            "172/172 [==============================] - 12s 70ms/step - loss: 0.7776 - acc: 0.7110 - val_loss: 0.7045 - val_acc: 0.7171\n",
            "Epoch 51/500\n",
            "972/972 [==============================] - 1s 838us/sample - loss: 0.6943 - acc: 0.7253\n",
            "172/172 [==============================] - 12s 71ms/step - loss: 0.7798 - acc: 0.7172 - val_loss: 0.6890 - val_acc: 0.7253\n",
            "Epoch 52/500\n",
            "972/972 [==============================] - 1s 791us/sample - loss: 0.6660 - acc: 0.7294\n",
            "172/172 [==============================] - 12s 72ms/step - loss: 0.7772 - acc: 0.7176 - val_loss: 0.6596 - val_acc: 0.7294\n",
            "Epoch 53/500\n",
            "972/972 [==============================] - 1s 839us/sample - loss: 0.7193 - acc: 0.7140\n",
            "172/172 [==============================] - 12s 71ms/step - loss: 0.7707 - acc: 0.7199 - val_loss: 0.7122 - val_acc: 0.7140\n",
            "Epoch 54/500\n",
            "972/972 [==============================] - 1s 802us/sample - loss: 0.6789 - acc: 0.7315\n",
            "172/172 [==============================] - 12s 70ms/step - loss: 0.7582 - acc: 0.7268 - val_loss: 0.6709 - val_acc: 0.7315\n",
            "Epoch 55/500\n",
            "972/972 [==============================] - 1s 805us/sample - loss: 0.6900 - acc: 0.7263\n",
            "172/172 [==============================] - 12s 70ms/step - loss: 0.7609 - acc: 0.7290 - val_loss: 0.6810 - val_acc: 0.7263\n",
            "Epoch 56/500\n",
            "972/972 [==============================] - 1s 807us/sample - loss: 0.6880 - acc: 0.7274\n",
            "172/172 [==============================] - 12s 71ms/step - loss: 0.7578 - acc: 0.7288 - val_loss: 0.6804 - val_acc: 0.7274\n",
            "Epoch 57/500\n",
            "972/972 [==============================] - 1s 827us/sample - loss: 0.6856 - acc: 0.7202\n",
            "172/172 [==============================] - 12s 71ms/step - loss: 0.7618 - acc: 0.7217 - val_loss: 0.6780 - val_acc: 0.7202\n",
            "Epoch 58/500\n",
            "972/972 [==============================] - 1s 782us/sample - loss: 0.6883 - acc: 0.7171\n",
            "172/172 [==============================] - 12s 70ms/step - loss: 0.7613 - acc: 0.7292 - val_loss: 0.6811 - val_acc: 0.7171\n",
            "Epoch 59/500\n",
            "972/972 [==============================] - 1s 784us/sample - loss: 0.6642 - acc: 0.7346\n",
            "172/172 [==============================] - 12s 72ms/step - loss: 0.7550 - acc: 0.7306 - val_loss: 0.6577 - val_acc: 0.7346\n",
            "Epoch 60/500\n",
            "972/972 [==============================] - 1s 786us/sample - loss: 0.6610 - acc: 0.7315\n",
            "172/172 [==============================] - 12s 71ms/step - loss: 0.7457 - acc: 0.7321 - val_loss: 0.6549 - val_acc: 0.7315\n",
            "Epoch 61/500\n",
            "972/972 [==============================] - 1s 800us/sample - loss: 0.6568 - acc: 0.7397\n",
            "172/172 [==============================] - 12s 71ms/step - loss: 0.7423 - acc: 0.7283 - val_loss: 0.6508 - val_acc: 0.7397\n",
            "Epoch 62/500\n",
            "972/972 [==============================] - 1s 781us/sample - loss: 0.6499 - acc: 0.7469\n",
            "172/172 [==============================] - 12s 72ms/step - loss: 0.7401 - acc: 0.7301 - val_loss: 0.6427 - val_acc: 0.7469\n",
            "Epoch 63/500\n",
            "972/972 [==============================] - 1s 820us/sample - loss: 0.6942 - acc: 0.7130\n",
            "172/172 [==============================] - 12s 70ms/step - loss: 0.7593 - acc: 0.7226 - val_loss: 0.6857 - val_acc: 0.7130\n",
            "Epoch 64/500\n",
            "972/972 [==============================] - 1s 788us/sample - loss: 0.6548 - acc: 0.7335\n",
            "172/172 [==============================] - 12s 71ms/step - loss: 0.7397 - acc: 0.7297 - val_loss: 0.6495 - val_acc: 0.7335\n",
            "Epoch 65/500\n",
            "972/972 [==============================] - 1s 823us/sample - loss: 0.6480 - acc: 0.7356\n",
            "172/172 [==============================] - 12s 72ms/step - loss: 0.7447 - acc: 0.7294 - val_loss: 0.6418 - val_acc: 0.7356\n",
            "Epoch 66/500\n",
            "972/972 [==============================] - 1s 794us/sample - loss: 0.6747 - acc: 0.7233\n",
            "172/172 [==============================] - 12s 70ms/step - loss: 0.7459 - acc: 0.7328 - val_loss: 0.6691 - val_acc: 0.7233\n",
            "Epoch 67/500\n",
            "972/972 [==============================] - 1s 819us/sample - loss: 0.6580 - acc: 0.7377\n",
            "172/172 [==============================] - 12s 71ms/step - loss: 0.7408 - acc: 0.7314 - val_loss: 0.6520 - val_acc: 0.7377\n",
            "Epoch 68/500\n",
            "972/972 [==============================] - 1s 804us/sample - loss: 0.6663 - acc: 0.7305\n",
            "172/172 [==============================] - 12s 71ms/step - loss: 0.7339 - acc: 0.7368 - val_loss: 0.6594 - val_acc: 0.7305\n",
            "Epoch 69/500\n",
            "972/972 [==============================] - 1s 835us/sample - loss: 0.6527 - acc: 0.7407\n",
            "172/172 [==============================] - 12s 71ms/step - loss: 0.7423 - acc: 0.7285 - val_loss: 0.6456 - val_acc: 0.7407\n",
            "Epoch 70/500\n",
            "972/972 [==============================] - 1s 800us/sample - loss: 0.6628 - acc: 0.7284\n",
            "172/172 [==============================] - 12s 71ms/step - loss: 0.7335 - acc: 0.7381 - val_loss: 0.6549 - val_acc: 0.7284\n",
            "Epoch 71/500\n",
            "972/972 [==============================] - 1s 832us/sample - loss: 0.6463 - acc: 0.7479\n",
            "172/172 [==============================] - 13s 73ms/step - loss: 0.7447 - acc: 0.7310 - val_loss: 0.6398 - val_acc: 0.7479\n",
            "Epoch 72/500\n",
            "972/972 [==============================] - 1s 791us/sample - loss: 0.6680 - acc: 0.7356\n",
            "172/172 [==============================] - 12s 71ms/step - loss: 0.7321 - acc: 0.7334 - val_loss: 0.6595 - val_acc: 0.7356\n",
            "Epoch 73/500\n",
            "972/972 [==============================] - 1s 840us/sample - loss: 0.6405 - acc: 0.7407\n",
            "172/172 [==============================] - 15s 87ms/step - loss: 0.7274 - acc: 0.7337 - val_loss: 0.6341 - val_acc: 0.7407\n",
            "Epoch 74/500\n",
            "972/972 [==============================] - 1s 779us/sample - loss: 0.6358 - acc: 0.7438\n",
            "172/172 [==============================] - 12s 73ms/step - loss: 0.7237 - acc: 0.7354 - val_loss: 0.6279 - val_acc: 0.7438\n",
            "Epoch 75/500\n",
            "972/972 [==============================] - 1s 807us/sample - loss: 0.6441 - acc: 0.7407\n",
            "172/172 [==============================] - 12s 70ms/step - loss: 0.7178 - acc: 0.7421 - val_loss: 0.6372 - val_acc: 0.7407\n",
            "Epoch 76/500\n",
            "972/972 [==============================] - 1s 794us/sample - loss: 0.6556 - acc: 0.7438\n",
            "172/172 [==============================] - 12s 70ms/step - loss: 0.7284 - acc: 0.7356 - val_loss: 0.6482 - val_acc: 0.7438\n",
            "Epoch 77/500\n",
            "972/972 [==============================] - 1s 805us/sample - loss: 0.6601 - acc: 0.7387\n",
            "172/172 [==============================] - 12s 71ms/step - loss: 0.7189 - acc: 0.7395 - val_loss: 0.6530 - val_acc: 0.7387\n",
            "Epoch 78/500\n",
            "972/972 [==============================] - 1s 805us/sample - loss: 0.6493 - acc: 0.7325\n",
            "172/172 [==============================] - 12s 71ms/step - loss: 0.7360 - acc: 0.7341 - val_loss: 0.6413 - val_acc: 0.7325\n",
            "Epoch 79/500\n",
            "972/972 [==============================] - 1s 816us/sample - loss: 0.6420 - acc: 0.7325\n",
            "172/172 [==============================] - 12s 71ms/step - loss: 0.7173 - acc: 0.7388 - val_loss: 0.6352 - val_acc: 0.7325\n",
            "Epoch 80/500\n",
            "972/972 [==============================] - 1s 804us/sample - loss: 0.6504 - acc: 0.7459\n",
            "172/172 [==============================] - 12s 70ms/step - loss: 0.7115 - acc: 0.7406 - val_loss: 0.6428 - val_acc: 0.7459\n",
            "Epoch 81/500\n",
            "972/972 [==============================] - 1s 820us/sample - loss: 0.6392 - acc: 0.7521\n",
            "172/172 [==============================] - 12s 71ms/step - loss: 0.7099 - acc: 0.7394 - val_loss: 0.6322 - val_acc: 0.7521\n",
            "Epoch 82/500\n",
            "972/972 [==============================] - 1s 803us/sample - loss: 0.6350 - acc: 0.7490\n",
            "172/172 [==============================] - 12s 73ms/step - loss: 0.7137 - acc: 0.7434 - val_loss: 0.6278 - val_acc: 0.7490\n",
            "Epoch 83/500\n",
            "972/972 [==============================] - 1s 809us/sample - loss: 0.6292 - acc: 0.7551\n",
            "172/172 [==============================] - 12s 72ms/step - loss: 0.7115 - acc: 0.7428 - val_loss: 0.6217 - val_acc: 0.7551\n",
            "Epoch 84/500\n",
            "972/972 [==============================] - 1s 791us/sample - loss: 0.6391 - acc: 0.7510\n",
            "172/172 [==============================] - 12s 71ms/step - loss: 0.7038 - acc: 0.7435 - val_loss: 0.6316 - val_acc: 0.7510\n",
            "Epoch 85/500\n",
            "972/972 [==============================] - 1s 799us/sample - loss: 0.6444 - acc: 0.7407\n",
            "172/172 [==============================] - 12s 70ms/step - loss: 0.7123 - acc: 0.7457 - val_loss: 0.6375 - val_acc: 0.7407\n",
            "Epoch 86/500\n",
            "972/972 [==============================] - 1s 806us/sample - loss: 0.6382 - acc: 0.7377\n",
            "172/172 [==============================] - 12s 71ms/step - loss: 0.7004 - acc: 0.7485 - val_loss: 0.6314 - val_acc: 0.7377\n",
            "Epoch 87/500\n",
            "972/972 [==============================] - 1s 814us/sample - loss: 0.6351 - acc: 0.7500\n",
            "172/172 [==============================] - 12s 70ms/step - loss: 0.7156 - acc: 0.7395 - val_loss: 0.6287 - val_acc: 0.7500\n",
            "Epoch 88/500\n",
            "972/972 [==============================] - 1s 778us/sample - loss: 0.6205 - acc: 0.7479\n",
            "172/172 [==============================] - 12s 72ms/step - loss: 0.7102 - acc: 0.7483 - val_loss: 0.6132 - val_acc: 0.7479\n",
            "Epoch 89/500\n",
            "972/972 [==============================] - 1s 816us/sample - loss: 0.6431 - acc: 0.7305\n",
            "172/172 [==============================] - 12s 71ms/step - loss: 0.7059 - acc: 0.7446 - val_loss: 0.6363 - val_acc: 0.7305\n",
            "Epoch 90/500\n",
            "972/972 [==============================] - 1s 789us/sample - loss: 0.6427 - acc: 0.7459\n",
            "172/172 [==============================] - 12s 70ms/step - loss: 0.6944 - acc: 0.7492 - val_loss: 0.6346 - val_acc: 0.7459\n",
            "Epoch 91/500\n",
            "972/972 [==============================] - 1s 837us/sample - loss: 0.6412 - acc: 0.7469\n",
            "172/172 [==============================] - 12s 71ms/step - loss: 0.7093 - acc: 0.7445 - val_loss: 0.6339 - val_acc: 0.7469\n",
            "Epoch 92/500\n",
            "972/972 [==============================] - 1s 770us/sample - loss: 0.6192 - acc: 0.7479\n",
            "172/172 [==============================] - 12s 72ms/step - loss: 0.6948 - acc: 0.7508 - val_loss: 0.6124 - val_acc: 0.7479\n",
            "Epoch 93/500\n",
            "972/972 [==============================] - 1s 808us/sample - loss: 0.6375 - acc: 0.7407\n",
            "172/172 [==============================] - 12s 71ms/step - loss: 0.6969 - acc: 0.7425 - val_loss: 0.6291 - val_acc: 0.7407\n",
            "Epoch 94/500\n",
            "972/972 [==============================] - 1s 809us/sample - loss: 0.6391 - acc: 0.7387\n",
            "172/172 [==============================] - 12s 70ms/step - loss: 0.6973 - acc: 0.7446 - val_loss: 0.6320 - val_acc: 0.7387\n",
            "Epoch 95/500\n",
            "972/972 [==============================] - 1s 821us/sample - loss: 0.6079 - acc: 0.7551\n",
            "172/172 [==============================] - 12s 72ms/step - loss: 0.7108 - acc: 0.7495 - val_loss: 0.5999 - val_acc: 0.7551\n",
            "Epoch 96/500\n",
            "972/972 [==============================] - 1s 783us/sample - loss: 0.6352 - acc: 0.7510\n",
            "172/172 [==============================] - 12s 70ms/step - loss: 0.6800 - acc: 0.7583 - val_loss: 0.6272 - val_acc: 0.7510\n",
            "Epoch 97/500\n",
            "972/972 [==============================] - 1s 813us/sample - loss: 0.6267 - acc: 0.7500\n",
            "172/172 [==============================] - 12s 71ms/step - loss: 0.6977 - acc: 0.7455 - val_loss: 0.6189 - val_acc: 0.7500\n",
            "Epoch 98/500\n",
            "972/972 [==============================] - 1s 787us/sample - loss: 0.6195 - acc: 0.7562\n",
            "172/172 [==============================] - 12s 71ms/step - loss: 0.6858 - acc: 0.7541 - val_loss: 0.6127 - val_acc: 0.7562\n",
            "Epoch 99/500\n",
            "972/972 [==============================] - 1s 851us/sample - loss: 0.6157 - acc: 0.7603\n",
            "172/172 [==============================] - 12s 71ms/step - loss: 0.6815 - acc: 0.7552 - val_loss: 0.6085 - val_acc: 0.7603\n",
            "Epoch 100/500\n",
            "972/972 [==============================] - 1s 781us/sample - loss: 0.6443 - acc: 0.7418\n",
            "172/172 [==============================] - 12s 70ms/step - loss: 0.6818 - acc: 0.7557 - val_loss: 0.6361 - val_acc: 0.7418\n",
            "Epoch 101/500\n",
            "972/972 [==============================] - 1s 800us/sample - loss: 0.6504 - acc: 0.7325\n",
            "172/172 [==============================] - 12s 71ms/step - loss: 0.6908 - acc: 0.7548 - val_loss: 0.6425 - val_acc: 0.7325\n",
            "Epoch 102/500\n",
            "972/972 [==============================] - 1s 803us/sample - loss: 0.6923 - acc: 0.7222\n",
            "172/172 [==============================] - 12s 71ms/step - loss: 0.6882 - acc: 0.7475 - val_loss: 0.6850 - val_acc: 0.7222\n",
            "Epoch 103/500\n",
            "972/972 [==============================] - 1s 820us/sample - loss: 0.6208 - acc: 0.7490\n",
            "172/172 [==============================] - 12s 71ms/step - loss: 0.6845 - acc: 0.7501 - val_loss: 0.6139 - val_acc: 0.7490\n",
            "Epoch 104/500\n",
            "972/972 [==============================] - 1s 774us/sample - loss: 0.6322 - acc: 0.7603\n",
            "172/172 [==============================] - 12s 71ms/step - loss: 0.6892 - acc: 0.7519 - val_loss: 0.6251 - val_acc: 0.7603\n",
            "Epoch 105/500\n",
            "972/972 [==============================] - 1s 816us/sample - loss: 0.6267 - acc: 0.7562\n",
            "172/172 [==============================] - 12s 71ms/step - loss: 0.6777 - acc: 0.7566 - val_loss: 0.6191 - val_acc: 0.7562\n",
            "Epoch 106/500\n",
            "972/972 [==============================] - 1s 789us/sample - loss: 0.6282 - acc: 0.7572\n",
            "172/172 [==============================] - 12s 70ms/step - loss: 0.6857 - acc: 0.7526 - val_loss: 0.6209 - val_acc: 0.7572\n",
            "Epoch 107/500\n",
            "972/972 [==============================] - 1s 839us/sample - loss: 0.6116 - acc: 0.7531\n",
            "172/172 [==============================] - 12s 71ms/step - loss: 0.6903 - acc: 0.7583 - val_loss: 0.6045 - val_acc: 0.7531\n",
            "Epoch 108/500\n",
            "972/972 [==============================] - 1s 790us/sample - loss: 0.6013 - acc: 0.7603\n",
            "172/172 [==============================] - 12s 72ms/step - loss: 0.6818 - acc: 0.7574 - val_loss: 0.5940 - val_acc: 0.7603\n",
            "Epoch 109/500\n",
            "972/972 [==============================] - 1s 824us/sample - loss: 0.6147 - acc: 0.7582\n",
            "172/172 [==============================] - 12s 70ms/step - loss: 0.6860 - acc: 0.7488 - val_loss: 0.6069 - val_acc: 0.7582\n",
            "Epoch 110/500\n",
            "972/972 [==============================] - 1s 795us/sample - loss: 0.6288 - acc: 0.7531\n",
            "172/172 [==============================] - 12s 70ms/step - loss: 0.6911 - acc: 0.7501 - val_loss: 0.6217 - val_acc: 0.7531\n",
            "Epoch 111/500\n",
            "972/972 [==============================] - 1s 835us/sample - loss: 0.6110 - acc: 0.7593\n",
            "172/172 [==============================] - 12s 71ms/step - loss: 0.6761 - acc: 0.7519 - val_loss: 0.6039 - val_acc: 0.7593\n",
            "Epoch 112/500\n",
            "972/972 [==============================] - 1s 808us/sample - loss: 0.6165 - acc: 0.7593\n",
            "172/172 [==============================] - 12s 70ms/step - loss: 0.6752 - acc: 0.7514 - val_loss: 0.6094 - val_acc: 0.7593\n",
            "Epoch 113/500\n",
            "972/972 [==============================] - 1s 797us/sample - loss: 0.6082 - acc: 0.7572\n",
            "172/172 [==============================] - 12s 70ms/step - loss: 0.6794 - acc: 0.7525 - val_loss: 0.6007 - val_acc: 0.7572\n",
            "Epoch 114/500\n",
            "972/972 [==============================] - 1s 819us/sample - loss: 0.6105 - acc: 0.7521\n",
            "172/172 [==============================] - 12s 70ms/step - loss: 0.6823 - acc: 0.7512 - val_loss: 0.6031 - val_acc: 0.7521\n",
            "Epoch 115/500\n",
            "972/972 [==============================] - 1s 802us/sample - loss: 0.5959 - acc: 0.7685\n",
            "172/172 [==============================] - 12s 72ms/step - loss: 0.6698 - acc: 0.7585 - val_loss: 0.5887 - val_acc: 0.7685\n",
            "Epoch 116/500\n",
            "972/972 [==============================] - 1s 826us/sample - loss: 0.6454 - acc: 0.7582\n",
            "172/172 [==============================] - 12s 71ms/step - loss: 0.6889 - acc: 0.7455 - val_loss: 0.6370 - val_acc: 0.7582\n",
            "Epoch 117/500\n",
            "972/972 [==============================] - 1s 819us/sample - loss: 0.5996 - acc: 0.7665\n",
            "172/172 [==============================] - 12s 71ms/step - loss: 0.6608 - acc: 0.7648 - val_loss: 0.5931 - val_acc: 0.7665\n",
            "Epoch 118/500\n",
            "972/972 [==============================] - 1s 797us/sample - loss: 0.6265 - acc: 0.7479\n",
            "172/172 [==============================] - 12s 70ms/step - loss: 0.6794 - acc: 0.7537 - val_loss: 0.6209 - val_acc: 0.7479\n",
            "Epoch 119/500\n",
            "972/972 [==============================] - 1s 847us/sample - loss: 0.6148 - acc: 0.7572\n",
            "172/172 [==============================] - 12s 71ms/step - loss: 0.6661 - acc: 0.7577 - val_loss: 0.6105 - val_acc: 0.7572\n",
            "Epoch 120/500\n",
            "972/972 [==============================] - 1s 786us/sample - loss: 0.6347 - acc: 0.7675\n",
            "172/172 [==============================] - 12s 71ms/step - loss: 0.6706 - acc: 0.7566 - val_loss: 0.6265 - val_acc: 0.7675\n",
            "Epoch 121/500\n",
            "972/972 [==============================] - 1s 791us/sample - loss: 0.6065 - acc: 0.7500\n",
            "172/172 [==============================] - 12s 70ms/step - loss: 0.6656 - acc: 0.7603 - val_loss: 0.5997 - val_acc: 0.7500\n",
            "Epoch 122/500\n",
            "972/972 [==============================] - 1s 815us/sample - loss: 0.6178 - acc: 0.7562\n",
            "172/172 [==============================] - 12s 71ms/step - loss: 0.6658 - acc: 0.7650 - val_loss: 0.6117 - val_acc: 0.7562\n",
            "Epoch 123/500\n",
            "972/972 [==============================] - 1s 800us/sample - loss: 0.6096 - acc: 0.7562\n",
            "172/172 [==============================] - 12s 70ms/step - loss: 0.6705 - acc: 0.7563 - val_loss: 0.6035 - val_acc: 0.7562\n",
            "Epoch 124/500\n",
            "972/972 [==============================] - 1s 791us/sample - loss: 0.5929 - acc: 0.7675\n",
            "172/172 [==============================] - 12s 72ms/step - loss: 0.6699 - acc: 0.7594 - val_loss: 0.5862 - val_acc: 0.7675\n",
            "Epoch 125/500\n",
            "972/972 [==============================] - 1s 824us/sample - loss: 0.6298 - acc: 0.7613\n",
            "172/172 [==============================] - 12s 70ms/step - loss: 0.6635 - acc: 0.7601 - val_loss: 0.6224 - val_acc: 0.7613\n",
            "Epoch 126/500\n",
            "972/972 [==============================] - 1s 808us/sample - loss: 0.6194 - acc: 0.7562\n",
            "172/172 [==============================] - 12s 70ms/step - loss: 0.6691 - acc: 0.7563 - val_loss: 0.6120 - val_acc: 0.7562\n",
            "Epoch 127/500\n",
            "972/972 [==============================] - 1s 851us/sample - loss: 0.5972 - acc: 0.7644\n",
            "172/172 [==============================] - 12s 71ms/step - loss: 0.6638 - acc: 0.7575 - val_loss: 0.5915 - val_acc: 0.7644\n",
            "Epoch 128/500\n",
            "972/972 [==============================] - 1s 773us/sample - loss: 0.6012 - acc: 0.7726\n",
            "172/172 [==============================] - 12s 70ms/step - loss: 0.6594 - acc: 0.7605 - val_loss: 0.5958 - val_acc: 0.7726\n",
            "Epoch 129/500\n",
            "972/972 [==============================] - 1s 810us/sample - loss: 0.5982 - acc: 0.7665\n",
            "172/172 [==============================] - 12s 71ms/step - loss: 0.6586 - acc: 0.7606 - val_loss: 0.5924 - val_acc: 0.7665\n",
            "Epoch 130/500\n",
            "972/972 [==============================] - 1s 785us/sample - loss: 0.5845 - acc: 0.7788\n",
            "172/172 [==============================] - 12s 72ms/step - loss: 0.6573 - acc: 0.7706 - val_loss: 0.5786 - val_acc: 0.7788\n",
            "Epoch 131/500\n",
            "972/972 [==============================] - 1s 826us/sample - loss: 0.6409 - acc: 0.7500\n",
            "172/172 [==============================] - 12s 71ms/step - loss: 0.6737 - acc: 0.7546 - val_loss: 0.6343 - val_acc: 0.7500\n",
            "Epoch 132/500\n",
            "972/972 [==============================] - 1s 805us/sample - loss: 0.5926 - acc: 0.7675\n",
            "172/172 [==============================] - 12s 70ms/step - loss: 0.6598 - acc: 0.7619 - val_loss: 0.5855 - val_acc: 0.7675\n",
            "Epoch 133/500\n",
            "972/972 [==============================] - 1s 816us/sample - loss: 0.6238 - acc: 0.7613\n",
            "172/172 [==============================] - 12s 71ms/step - loss: 0.6557 - acc: 0.7590 - val_loss: 0.6169 - val_acc: 0.7613\n",
            "Epoch 134/500\n",
            "972/972 [==============================] - 1s 769us/sample - loss: 0.6543 - acc: 0.7531\n",
            "172/172 [==============================] - 12s 70ms/step - loss: 0.6506 - acc: 0.7681 - val_loss: 0.6464 - val_acc: 0.7531\n",
            "Epoch 135/500\n",
            "972/972 [==============================] - 1s 828us/sample - loss: 0.6039 - acc: 0.7613\n",
            "172/172 [==============================] - 12s 71ms/step - loss: 0.6710 - acc: 0.7525 - val_loss: 0.5968 - val_acc: 0.7613\n",
            "Epoch 136/500\n",
            "972/972 [==============================] - 1s 813us/sample - loss: 0.6149 - acc: 0.7613\n",
            "172/172 [==============================] - 12s 70ms/step - loss: 0.6615 - acc: 0.7530 - val_loss: 0.6072 - val_acc: 0.7613\n",
            "Epoch 137/500\n",
            "972/972 [==============================] - 1s 812us/sample - loss: 0.6138 - acc: 0.7644\n",
            "172/172 [==============================] - 12s 70ms/step - loss: 0.6560 - acc: 0.7686 - val_loss: 0.6065 - val_acc: 0.7644\n",
            "Epoch 138/500\n",
            "972/972 [==============================] - 1s 785us/sample - loss: 0.5922 - acc: 0.7737\n",
            "172/172 [==============================] - 12s 70ms/step - loss: 0.6677 - acc: 0.7588 - val_loss: 0.5858 - val_acc: 0.7737\n",
            "Epoch 139/500\n",
            "972/972 [==============================] - 1s 811us/sample - loss: 0.5867 - acc: 0.7716\n",
            "172/172 [==============================] - 12s 71ms/step - loss: 0.6613 - acc: 0.7625 - val_loss: 0.5808 - val_acc: 0.7716\n",
            "Epoch 140/500\n",
            "972/972 [==============================] - 1s 780us/sample - loss: 0.6130 - acc: 0.7449\n",
            "172/172 [==============================] - 12s 70ms/step - loss: 0.6510 - acc: 0.7657 - val_loss: 0.6067 - val_acc: 0.7449\n",
            "Epoch 141/500\n",
            "972/972 [==============================] - 1s 799us/sample - loss: 0.6246 - acc: 0.7593\n",
            "172/172 [==============================] - 12s 70ms/step - loss: 0.6475 - acc: 0.7621 - val_loss: 0.6167 - val_acc: 0.7593\n",
            "Epoch 142/500\n",
            "972/972 [==============================] - 1s 802us/sample - loss: 0.6021 - acc: 0.7675\n",
            "172/172 [==============================] - 12s 71ms/step - loss: 0.6605 - acc: 0.7606 - val_loss: 0.5944 - val_acc: 0.7675\n",
            "Epoch 143/500\n",
            "972/972 [==============================] - 1s 815us/sample - loss: 0.6286 - acc: 0.7644\n",
            "172/172 [==============================] - 12s 71ms/step - loss: 0.6610 - acc: 0.7621 - val_loss: 0.6211 - val_acc: 0.7644\n",
            "Epoch 144/500\n",
            "972/972 [==============================] - 1s 787us/sample - loss: 0.6099 - acc: 0.7459\n",
            "172/172 [==============================] - 12s 71ms/step - loss: 0.6567 - acc: 0.7608 - val_loss: 0.6040 - val_acc: 0.7459\n",
            "Epoch 145/500\n",
            "972/972 [==============================] - 1s 798us/sample - loss: 0.5934 - acc: 0.7665\n",
            "172/172 [==============================] - 12s 70ms/step - loss: 0.6560 - acc: 0.7617 - val_loss: 0.5879 - val_acc: 0.7665\n",
            "Epoch 146/500\n",
            "972/972 [==============================] - 1s 812us/sample - loss: 0.6212 - acc: 0.7613\n",
            "172/172 [==============================] - 12s 71ms/step - loss: 0.6494 - acc: 0.7610 - val_loss: 0.6132 - val_acc: 0.7613\n",
            "Epoch 147/500\n",
            "972/972 [==============================] - 1s 802us/sample - loss: 0.5939 - acc: 0.7706\n",
            "172/172 [==============================] - 12s 70ms/step - loss: 0.6520 - acc: 0.7621 - val_loss: 0.5873 - val_acc: 0.7706\n",
            "Epoch 148/500\n",
            "972/972 [==============================] - 1s 772us/sample - loss: 0.6188 - acc: 0.7582\n",
            "172/172 [==============================] - 12s 70ms/step - loss: 0.6653 - acc: 0.7615 - val_loss: 0.6141 - val_acc: 0.7582\n",
            "Epoch 149/500\n",
            "972/972 [==============================] - 1s 833us/sample - loss: 0.6025 - acc: 0.7582\n",
            "172/172 [==============================] - 12s 71ms/step - loss: 0.6517 - acc: 0.7617 - val_loss: 0.5967 - val_acc: 0.7582\n",
            "Epoch 150/500\n",
            "972/972 [==============================] - 1s 820us/sample - loss: 0.5939 - acc: 0.7582\n",
            "172/172 [==============================] - 12s 70ms/step - loss: 0.6598 - acc: 0.7583 - val_loss: 0.5891 - val_acc: 0.7582\n",
            "Epoch 151/500\n",
            "972/972 [==============================] - 1s 815us/sample - loss: 0.6071 - acc: 0.7654\n",
            "172/172 [==============================] - 12s 70ms/step - loss: 0.6433 - acc: 0.7650 - val_loss: 0.6002 - val_acc: 0.7654\n",
            "Epoch 152/500\n",
            "972/972 [==============================] - 1s 816us/sample - loss: 0.6007 - acc: 0.7541\n",
            "172/172 [==============================] - 12s 70ms/step - loss: 0.6456 - acc: 0.7732 - val_loss: 0.5948 - val_acc: 0.7541\n",
            "Epoch 153/500\n",
            "972/972 [==============================] - 1s 843us/sample - loss: 0.5750 - acc: 0.7665\n",
            "172/172 [==============================] - 12s 72ms/step - loss: 0.6467 - acc: 0.7668 - val_loss: 0.5688 - val_acc: 0.7665\n",
            "Epoch 154/500\n",
            "972/972 [==============================] - 1s 791us/sample - loss: 0.6165 - acc: 0.7562\n",
            "172/172 [==============================] - 12s 70ms/step - loss: 0.6556 - acc: 0.7644 - val_loss: 0.6102 - val_acc: 0.7562\n",
            "Epoch 155/500\n",
            "972/972 [==============================] - 1s 843us/sample - loss: 0.6282 - acc: 0.7623\n",
            "172/172 [==============================] - 12s 71ms/step - loss: 0.6396 - acc: 0.7697 - val_loss: 0.6222 - val_acc: 0.7623\n",
            "Epoch 156/500\n",
            "972/972 [==============================] - 1s 810us/sample - loss: 0.6004 - acc: 0.7654\n",
            "172/172 [==============================] - 12s 71ms/step - loss: 0.6491 - acc: 0.7684 - val_loss: 0.5944 - val_acc: 0.7654\n",
            "Epoch 157/500\n",
            "972/972 [==============================] - 1s 806us/sample - loss: 0.5944 - acc: 0.7706\n",
            "172/172 [==============================] - 12s 71ms/step - loss: 0.6547 - acc: 0.7597 - val_loss: 0.5894 - val_acc: 0.7706\n",
            "Epoch 158/500\n",
            "972/972 [==============================] - 1s 843us/sample - loss: 0.6160 - acc: 0.7716\n",
            "172/172 [==============================] - 12s 71ms/step - loss: 0.6483 - acc: 0.7621 - val_loss: 0.6096 - val_acc: 0.7716\n",
            "Epoch 159/500\n",
            "972/972 [==============================] - 1s 796us/sample - loss: 0.6253 - acc: 0.7654\n",
            "172/172 [==============================] - 12s 71ms/step - loss: 0.6271 - acc: 0.7726 - val_loss: 0.6197 - val_acc: 0.7654\n",
            "Epoch 160/500\n",
            "972/972 [==============================] - 1s 779us/sample - loss: 0.6162 - acc: 0.7603\n",
            "172/172 [==============================] - 12s 71ms/step - loss: 0.6564 - acc: 0.7621 - val_loss: 0.6110 - val_acc: 0.7603\n",
            "Epoch 161/500\n",
            "972/972 [==============================] - 1s 795us/sample - loss: 0.6465 - acc: 0.7479\n",
            "172/172 [==============================] - 12s 70ms/step - loss: 0.6435 - acc: 0.7670 - val_loss: 0.6396 - val_acc: 0.7479\n",
            "Epoch 162/500\n",
            "972/972 [==============================] - 1s 779us/sample - loss: 0.6430 - acc: 0.7665\n",
            "172/172 [==============================] - 12s 70ms/step - loss: 0.6260 - acc: 0.7757 - val_loss: 0.6362 - val_acc: 0.7665\n",
            "Epoch 163/500\n",
            "972/972 [==============================] - 1s 804us/sample - loss: 0.6060 - acc: 0.7562\n",
            "172/172 [==============================] - 12s 70ms/step - loss: 0.6521 - acc: 0.7634 - val_loss: 0.6006 - val_acc: 0.7562\n",
            "Epoch 164/500\n",
            "972/972 [==============================] - 1s 798us/sample - loss: 0.6240 - acc: 0.7644\n",
            "172/172 [==============================] - 12s 71ms/step - loss: 0.6425 - acc: 0.7650 - val_loss: 0.6179 - val_acc: 0.7644\n",
            "Epoch 165/500\n",
            "972/972 [==============================] - 1s 819us/sample - loss: 0.6051 - acc: 0.7654\n",
            "172/172 [==============================] - 12s 71ms/step - loss: 0.6407 - acc: 0.7672 - val_loss: 0.5990 - val_acc: 0.7654\n",
            "Epoch 166/500\n",
            "972/972 [==============================] - 1s 777us/sample - loss: 0.6042 - acc: 0.7531\n",
            "172/172 [==============================] - 12s 70ms/step - loss: 0.6338 - acc: 0.7674 - val_loss: 0.5988 - val_acc: 0.7531\n",
            "Epoch 167/500\n",
            "972/972 [==============================] - 1s 809us/sample - loss: 0.6381 - acc: 0.7654\n",
            "172/172 [==============================] - 12s 70ms/step - loss: 0.6449 - acc: 0.7683 - val_loss: 0.6326 - val_acc: 0.7654\n",
            "Epoch 168/500\n",
            "972/972 [==============================] - 1s 779us/sample - loss: 0.5994 - acc: 0.7706\n",
            "172/172 [==============================] - 12s 70ms/step - loss: 0.6301 - acc: 0.7695 - val_loss: 0.5937 - val_acc: 0.7706\n",
            "Epoch 169/500\n",
            "972/972 [==============================] - 1s 836us/sample - loss: 0.5961 - acc: 0.7685\n",
            "172/172 [==============================] - 12s 71ms/step - loss: 0.6304 - acc: 0.7690 - val_loss: 0.5902 - val_acc: 0.7685\n",
            "Epoch 170/500\n",
            "972/972 [==============================] - 1s 779us/sample - loss: 0.6052 - acc: 0.7551\n",
            "172/172 [==============================] - 12s 70ms/step - loss: 0.6442 - acc: 0.7619 - val_loss: 0.5984 - val_acc: 0.7551\n",
            "Epoch 171/500\n",
            "972/972 [==============================] - 1s 844us/sample - loss: 0.5840 - acc: 0.7706\n",
            "172/172 [==============================] - 12s 70ms/step - loss: 0.6361 - acc: 0.7721 - val_loss: 0.5781 - val_acc: 0.7706\n",
            "Epoch 172/500\n",
            "972/972 [==============================] - 1s 800us/sample - loss: 0.5923 - acc: 0.7747\n",
            "172/172 [==============================] - 12s 70ms/step - loss: 0.6448 - acc: 0.7661 - val_loss: 0.5870 - val_acc: 0.7747\n",
            "Epoch 173/500\n",
            "972/972 [==============================] - 1s 791us/sample - loss: 0.5918 - acc: 0.7757\n",
            "172/172 [==============================] - 12s 70ms/step - loss: 0.6421 - acc: 0.7664 - val_loss: 0.5874 - val_acc: 0.7757\n",
            "Epoch 174/500\n",
            "972/972 [==============================] - 1s 775us/sample - loss: 0.5829 - acc: 0.7685\n",
            "172/172 [==============================] - 12s 70ms/step - loss: 0.6415 - acc: 0.7699 - val_loss: 0.5775 - val_acc: 0.7685\n",
            "Epoch 175/500\n",
            "972/972 [==============================] - 1s 807us/sample - loss: 0.5950 - acc: 0.7726\n",
            "172/172 [==============================] - 12s 70ms/step - loss: 0.6433 - acc: 0.7677 - val_loss: 0.5885 - val_acc: 0.7726\n",
            "Epoch 176/500\n",
            "972/972 [==============================] - 1s 791us/sample - loss: 0.6049 - acc: 0.7665\n",
            "172/172 [==============================] - 12s 70ms/step - loss: 0.6461 - acc: 0.7672 - val_loss: 0.6005 - val_acc: 0.7665\n",
            "Epoch 177/500\n",
            "972/972 [==============================] - 1s 822us/sample - loss: 0.6557 - acc: 0.7551\n",
            "172/172 [==============================] - 12s 70ms/step - loss: 0.6382 - acc: 0.7706 - val_loss: 0.6490 - val_acc: 0.7551\n",
            "Epoch 178/500\n",
            "972/972 [==============================] - 1s 777us/sample - loss: 0.6254 - acc: 0.7623\n",
            "172/172 [==============================] - 12s 70ms/step - loss: 0.6310 - acc: 0.7666 - val_loss: 0.6178 - val_acc: 0.7623\n"
          ],
          "name": "stdout"
        }
      ]
    },
    {
      "cell_type": "code",
      "metadata": {
        "id": "ivWYuJufcTRv",
        "colab_type": "code",
        "outputId": "389c3795-3c62-4ab7-d8c9-d4c7bddfa2a8",
        "colab": {
          "base_uri": "https://localhost:8080/",
          "height": 283
        }
      },
      "source": [
        "acc = history.history['acc']\n",
        "val_acc = history.history['val_acc']\n",
        " \n",
        "plt.plot(acc)\n",
        "plt.plot(val_acc)\n",
        "plt.ylabel('Accuracy')\n",
        "plt.xlabel('Epoch')\n",
        "plt.legend(['acc', 'val_acc'], loc='upper left')\n",
        "plt.show()"
      ],
      "execution_count": 0,
      "outputs": [
        {
          "output_type": "display_data",
          "data": {
            "image/png": "[encoded data removed]",
            "text/plain": [
              "<Figure size 432x288 with 1 Axes>"
            ]
          },
          "metadata": {
            "tags": []
          }
        }
      ]
    },
    {
      "cell_type": "code",
      "metadata": {
        "id": "jUzuGyiEcTUn",
        "colab_type": "code",
        "outputId": "8f19efec-5c38-4b62-efae-1a83071d686f",
        "colab": {
          "base_uri": "https://localhost:8080/",
          "height": 283
        }
      },
      "source": [
        "loss = history.history['loss']\n",
        "val_loss = history.history['val_loss']\n",
        " \n",
        "plt.plot(loss)\n",
        "plt.plot(val_loss)\n",
        "plt.ylabel('Loss')\n",
        "plt.xlabel('Epoch')\n",
        "plt.legend(['loss', 'val_loss'], loc='upper left')\n",
        "plt.show()"
      ],
      "execution_count": 0,
      "outputs": [
        {
          "output_type": "display_data",
          "data": {
            "image/png": "[encoded data removed]",
            "text/plain": [
              "<Figure size 432x288 with 1 Axes>"
            ]
          },
          "metadata": {
            "tags": []
          }
        }
      ]
    },
    {
      "cell_type": "code",
      "metadata": {
        "id": "c5FT-zCzs3g6",
        "colab_type": "code",
        "outputId": "4111bcf4-cfc9-4dd6-8494-38e7f1d9aec0",
        "colab": {
          "base_uri": "https://localhost:8080/",
          "height": 52
        }
      },
      "source": [
        "model.evaluate(X_test, y_test)"
      ],
      "execution_count": 0,
      "outputs": [
        {
          "output_type": "stream",
          "text": [
            "972/972 [==============================] - 1s 901us/sample - loss: 0.6255 - acc: 0.7623\n"
          ],
          "name": "stdout"
        },
        {
          "output_type": "execute_result",
          "data": {
            "text/plain": [
              "[0.6255035718649994, 0.7623457]"
            ]
          },
          "metadata": {
            "tags": []
          },
          "execution_count": 19
        }
      ]
    },
    {
      "cell_type": "code",
      "metadata": {
        "id": "yNygOvp8xZWu",
        "colab_type": "code",
        "outputId": "72d583ee-5277-4f8a-b92c-2d76bcd1dbbf",
        "colab": {
          "base_uri": "https://localhost:8080/",
          "height": 936
        }
      },
      "source": [
        "model.summary()"
      ],
      "execution_count": 0,
      "outputs": [
        {
          "output_type": "stream",
          "text": [
            "_________________________________________________________________\n",
            "Layer (type)                 Output Shape              Param #   \n",
            "=================================================================\n",
            "conv2d (Conv2D)              (None, 222, 222, 16)      160       \n",
            "_________________________________________________________________\n",
            "activation (Activation)      (None, 222, 222, 16)      0         \n",
            "_________________________________________________________________\n",
            "max_pooling2d (MaxPooling2D) (None, 111, 111, 16)      0         \n",
            "_________________________________________________________________\n",
            "dropout (Dropout)            (None, 111, 111, 16)      0         \n",
            "_________________________________________________________________\n",
            "conv2d_1 (Conv2D)            (None, 109, 109, 32)      4640      \n",
            "_________________________________________________________________\n",
            "activation_1 (Activation)    (None, 109, 109, 32)      0         \n",
            "_________________________________________________________________\n",
            "max_pooling2d_1 (MaxPooling2 (None, 54, 54, 32)        0         \n",
            "_________________________________________________________________\n",
            "dropout_1 (Dropout)          (None, 54, 54, 32)        0         \n",
            "_________________________________________________________________\n",
            "conv2d_2 (Conv2D)            (None, 52, 52, 64)        18496     \n",
            "_________________________________________________________________\n",
            "activation_2 (Activation)    (None, 52, 52, 64)        0         \n",
            "_________________________________________________________________\n",
            "max_pooling2d_2 (MaxPooling2 (None, 26, 26, 64)        0         \n",
            "_________________________________________________________________\n",
            "dropout_2 (Dropout)          (None, 26, 26, 64)        0         \n",
            "_________________________________________________________________\n",
            "conv2d_3 (Conv2D)            (None, 24, 24, 32)        18464     \n",
            "_________________________________________________________________\n",
            "activation_3 (Activation)    (None, 24, 24, 32)        0         \n",
            "_________________________________________________________________\n",
            "max_pooling2d_3 (MaxPooling2 (None, 12, 12, 32)        0         \n",
            "_________________________________________________________________\n",
            "dropout_3 (Dropout)          (None, 12, 12, 32)        0         \n",
            "_________________________________________________________________\n",
            "conv2d_4 (Conv2D)            (None, 10, 10, 16)        4624      \n",
            "_________________________________________________________________\n",
            "activation_4 (Activation)    (None, 10, 10, 16)        0         \n",
            "_________________________________________________________________\n",
            "max_pooling2d_4 (MaxPooling2 (None, 5, 5, 16)          0         \n",
            "_________________________________________________________________\n",
            "dropout_4 (Dropout)          (None, 5, 5, 16)          0         \n",
            "_________________________________________________________________\n",
            "flatten (Flatten)            (None, 400)               0         \n",
            "_________________________________________________________________\n",
            "dense (Dense)                (None, 5)                 2005      \n",
            "_________________________________________________________________\n",
            "activation_5 (Activation)    (None, 5)                 0         \n",
            "=================================================================\n",
            "Total params: 48,389\n",
            "Trainable params: 48,389\n",
            "Non-trainable params: 0\n",
            "_________________________________________________________________\n"
          ],
          "name": "stdout"
        }
      ]
    },
    {
      "cell_type": "code",
      "metadata": {
        "id": "sIT9X7UXMeOE",
        "colab_type": "code",
        "colab": {}
      },
      "source": [
        "from keras.utils import plot_model\n",
        "plot_model(model, show_shapes=True, to_file='model.png')"
      ],
      "execution_count": 0,
      "outputs": []
    },
    {
      "cell_type": "code",
      "metadata": {
        "id": "K3TCP2Vi7D7n",
        "colab_type": "code",
        "colab": {}
      },
      "source": [
        "from keras.utils import plot_model\n",
        "plot_model(model, show_shapes=False, to_file='model2.png')"
      ],
      "execution_count": 0,
      "outputs": []
    },
    {
      "cell_type": "code",
      "metadata": {
        "id": "lFdNkWhx7EHN",
        "colab_type": "code",
        "colab": {}
      },
      "source": [
        "from keras.utils import plot_model\n",
        "plot_model(model, show_shapes=False, to_file='model2.png')"
      ],
      "execution_count": 0,
      "outputs": []
    },
    {
      "cell_type": "code",
      "metadata": {
        "id": "WsGG6Pz9fxB9",
        "colab_type": "code",
        "colab": {}
      },
      "source": [
        "# Boilerplate code from sklearn website\n",
        "# https://scikit-learn.org/stable/auto_examples/model_selection/plot_confusion_matrix.html\n",
        "\n",
        "def plot_confusion_matrix(y_true, y_pred, classes,\n",
        "                          normalize=False,\n",
        "                          title=None,\n",
        "                          cmap=plt.cm.Oranges):\n",
        "    \"\"\"\n",
        "    This function prints and plots the confusion matrix.\n",
        "    Normalization can be applied by setting `normalize=True`.\n",
        "    \"\"\"\n",
        "    if not title:\n",
        "        if normalize:\n",
        "            title = 'Normalized confusion matrix'\n",
        "        else:\n",
        "            title = 'Confusion matrix, without normalization'\n",
        "\n",
        "    # Compute confusion matrix\n",
        "    cm = confusion_matrix(y_true, y_pred)\n",
        "    # Only use the labels that appear in the data\n",
        "#     classes = classes[unique_labels(y_true, y_pred)]\n",
        "    if normalize:\n",
        "        cm = cm.astype('float') / cm.sum(axis=1)[:, np.newaxis]\n",
        "        print(\"Normalized confusion matrix\")\n",
        "    else:\n",
        "        print('Confusion matrix, without normalization')\n",
        "\n",
        "    print(cm)\n",
        "\n",
        "    fig, ax = plt.subplots()\n",
        "    im = ax.imshow(cm, interpolation='nearest', cmap=cmap)\n",
        "    ax.figure.colorbar(im, ax=ax)\n",
        "    # We want to show all ticks...\n",
        "    ax.set(xticks=np.arange(cm.shape[1]),\n",
        "           yticks=np.arange(cm.shape[0]),\n",
        "           # ... and label them with the respective list entries\n",
        "           xticklabels=classes, yticklabels=classes,\n",
        "           title=title,\n",
        "           ylabel='True label',\n",
        "           xlabel='Predicted label')\n",
        "\n",
        "    # Rotate the tick labels and set their alignment.\n",
        "    plt.setp(ax.get_xticklabels(), rotation=45, ha=\"right\",\n",
        "             rotation_mode=\"anchor\")\n",
        "\n",
        "    # Loop over data dimensions and create text annotations.\n",
        "    fmt = '.2f' if normalize else 'd'\n",
        "    thresh = cm.max() / 2.\n",
        "    for i in range(cm.shape[0]):\n",
        "        for j in range(cm.shape[1]):\n",
        "            ax.text(j, i, format(cm[i, j], fmt),\n",
        "                    ha=\"center\", va=\"center\",\n",
        "                    color=\"white\" if cm[i, j] > thresh else \"black\")\n",
        "    fig.tight_layout()\n",
        "    return ax"
      ],
      "execution_count": 0,
      "outputs": []
    },
    {
      "cell_type": "code",
      "metadata": {
        "id": "S0o1kUyaaiya",
        "colab_type": "code",
        "colab": {}
      },
      "source": [
        ""
      ],
      "execution_count": 0,
      "outputs": []
    },
    {
      "cell_type": "markdown",
      "metadata": {
        "id": "C6zIXVpgaj_K",
        "colab_type": "text"
      },
      "source": [
        "## Load Saved Model"
      ]
    },
    {
      "cell_type": "code",
      "metadata": {
        "id": "uP8bh57eWn-0",
        "colab_type": "code",
        "outputId": "17ba5b1b-153b-44ad-87c5-c16ac2f9dc22",
        "colab": {
          "base_uri": "https://localhost:8080/",
          "height": 52
        }
      },
      "source": [
        "from keras.models import load_model\n",
        "trained_model = tf.keras.models.load_model(saved_h5)\n",
        "trained_model.evaluate(X_test, y_test)"
      ],
      "execution_count": 0,
      "outputs": [
        {
          "output_type": "stream",
          "text": [
            "972/972 [==============================] - 1s 1ms/sample - loss: 0.5751 - acc: 0.7665\n"
          ],
          "name": "stdout"
        },
        {
          "output_type": "execute_result",
          "data": {
            "text/plain": [
              "[0.5751233136457671, 0.7664609]"
            ]
          },
          "metadata": {
            "tags": []
          },
          "execution_count": 23
        }
      ]
    },
    {
      "cell_type": "markdown",
      "metadata": {
        "id": "p78XWDL1xyAB",
        "colab_type": "text"
      },
      "source": [
        "## Print out model metrics"
      ]
    },
    {
      "cell_type": "code",
      "metadata": {
        "id": "Y5p-d1mVWoBk",
        "colab_type": "code",
        "outputId": "c7a4b5f6-bd8d-451e-c169-6cbf415e662f",
        "colab": {
          "base_uri": "https://localhost:8080/",
          "height": 243
        }
      },
      "source": [
        "from sklearn.metrics import confusion_matrix\n",
        "from sklearn.metrics import cohen_kappa_score\n",
        "from sklearn.metrics import f1_score\n",
        "from sklearn.metrics import precision_score\n",
        "from sklearn.metrics import recall_score\n",
        "from sklearn.metrics import roc_curve\n",
        "import itertools\n",
        "\n",
        "prediction_vector = np.argmax(trained_model.predict(X_test), axis=1)\n",
        "label_vector = np.argmax(y_test, axis=1)\n",
        "\n",
        "cm = confusion_matrix(label_vector,prediction_vector)\n",
        "f1 = f1_score(label_vector,prediction_vector, average='weighted')\n",
        "kappa = cohen_kappa_score(label_vector,prediction_vector,weights='quadratic')\n",
        "prec = precision_score(label_vector,prediction_vector, average='weighted')\n",
        "recll = recall_score(label_vector,prediction_vector, average='weighted')\n",
        "\n",
        "cm_labels = ['No DR','Mild','Moderate','Severe','Proliferate DR']\n",
        "\n",
        "print(cm)\n",
        "print('\\nprecision: '+str(prec))\n",
        "print('\\nrecall: '+str(recll))\n",
        "print('\\nf1: '+str(f1))\n",
        "print('\\nkappa: '+str(kappa))"
      ],
      "execution_count": 0,
      "outputs": [
        {
          "output_type": "stream",
          "text": [
            "[[270   4   0   0   0]\n",
            " [ 12 178  21  18   3]\n",
            " [  7   3 129   6   5]\n",
            " [  0  24  20 105  26]\n",
            " [  1  12  24  41  63]]\n",
            "\n",
            "precision: 0.7627273659522974\n",
            "\n",
            "recall: 0.7664609053497943\n",
            "\n",
            "f1: 0.7596003284893195\n",
            "\n",
            "kappa: 0.8395937455870504\n"
          ],
          "name": "stdout"
        }
      ]
    },
    {
      "cell_type": "code",
      "metadata": {
        "id": "xk8tSoGqWoD9",
        "colab_type": "code",
        "outputId": "8f8407d3-4ac1-4d05-d345-cabc8ad2ad9d",
        "colab": {
          "base_uri": "https://localhost:8080/",
          "height": 419
        }
      },
      "source": [
        "plot_confusion_matrix(label_vector, prediction_vector, cm_labels, title='Confusion Matrix')"
      ],
      "execution_count": 0,
      "outputs": [
        {
          "output_type": "stream",
          "text": [
            "Confusion matrix, without normalization\n",
            "[[270   4   0   0   0]\n",
            " [ 12 178  21  18   3]\n",
            " [  7   3 129   6   5]\n",
            " [  0  24  20 105  26]\n",
            " [  1  12  24  41  63]]\n"
          ],
          "name": "stdout"
        },
        {
          "output_type": "execute_result",
          "data": {
            "text/plain": [
              "<matplotlib.axes._subplots.AxesSubplot at 0x7fcb54a82f98>"
            ]
          },
          "metadata": {
            "tags": []
          },
          "execution_count": 35
        },
        {
          "output_type": "display_data",
          "data": {
            "image/png": "[encoded data removed]",
            "text/plain": [
              "<Figure size 432x288 with 2 Axes>"
            ]
          },
          "metadata": {
            "tags": []
          }
        }
      ]
    },
    {
      "cell_type": "code",
      "metadata": {
        "id": "dyGOOgS3WoGt",
        "colab_type": "code",
        "outputId": "8bf585ab-159f-4622-9266-d0dd975b7d78",
        "colab": {
          "base_uri": "https://localhost:8080/",
          "height": 419
        }
      },
      "source": [
        "plot_confusion_matrix(label_vector, prediction_vector, cm_labels, normalize=True, title='Confusion Matrix')"
      ],
      "execution_count": 0,
      "outputs": [
        {
          "output_type": "stream",
          "text": [
            "Normalized confusion matrix\n",
            "[[0.98540146 0.01459854 0.         0.         0.        ]\n",
            " [0.05172414 0.76724138 0.09051724 0.07758621 0.01293103]\n",
            " [0.04666667 0.02       0.86       0.04       0.03333333]\n",
            " [0.         0.13714286 0.11428571 0.6        0.14857143]\n",
            " [0.0070922  0.08510638 0.17021277 0.29078014 0.44680851]]\n"
          ],
          "name": "stdout"
        },
        {
          "output_type": "execute_result",
          "data": {
            "text/plain": [
              "<matplotlib.axes._subplots.AxesSubplot at 0x7fcb54adea90>"
            ]
          },
          "metadata": {
            "tags": []
          },
          "execution_count": 36
        },
        {
          "output_type": "display_data",
          "data": {
            "image/png": "[encoded data removed]",
            "text/plain": [
              "<Figure size 432x288 with 2 Axes>"
            ]
          },
          "metadata": {
            "tags": []
          }
        }
      ]
    }
  ]
}