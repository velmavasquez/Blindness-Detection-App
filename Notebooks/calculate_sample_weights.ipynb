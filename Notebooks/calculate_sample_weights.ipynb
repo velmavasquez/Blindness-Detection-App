{
 "cells": [
  {
   "cell_type": "code",
   "execution_count": 1,
   "metadata": {},
   "outputs": [],
   "source": [
    "import numpy as np\n",
    "import pandas as pd"
   ]
  },
  {
   "cell_type": "code",
   "execution_count": 2,
   "metadata": {},
   "outputs": [],
   "source": [
    "# Read diagnosis from csv files and cread a list\n",
    "train_df_jpeg = pd.read_csv('data/train_jpeg.csv')\n",
    "train_df_jpg = pd.read_csv('data/train_jpg.csv')\n",
    "train_df_orig = pd.read_csv('data/train.csv')\n",
    "frames = [train_df_jpeg, train_df_jpg, train_df_orig]   \n",
    "train_df = pd.concat(frames)\n",
    "class_list = train_df['diagnosis']\n",
    "class_list = class_list.values"
   ]
  },
  {
   "cell_type": "code",
   "execution_count": 3,
   "metadata": {},
   "outputs": [],
   "source": [
    "# CALCULATION of WEIGHTS"
   ]
  },
  {
   "cell_type": "code",
   "execution_count": 4,
   "metadata": {},
   "outputs": [],
   "source": [
    "from sklearn.utils.class_weight import compute_class_weight\n",
    " \n",
    "class_weight_list = compute_class_weight('balanced', np.unique(class_list), class_list)\n",
    "class_weight = dict(zip(np.unique(class_list), class_weight_list))"
   ]
  },
  {
   "cell_type": "code",
   "execution_count": 5,
   "metadata": {},
   "outputs": [
    {
     "data": {
      "text/plain": [
       "{0: 0.7664265927977839,\n",
       " 1: 0.8534238124614435,\n",
       " 2: 1.0649730561970747,\n",
       " 3: 1.2135087719298245,\n",
       " 4: 1.315019011406844}"
      ]
     },
     "execution_count": 5,
     "metadata": {},
     "output_type": "execute_result"
    }
   ],
   "source": [
    "# Print out weights\n",
    "# This set of weights are used during model.fit\n",
    "class_weight"
   ]
  },
  {
   "cell_type": "code",
   "execution_count": null,
   "metadata": {},
   "outputs": [],
   "source": []
  }
 ],
 "metadata": {
  "kernelspec": {
   "display_name": "Python 3",
   "language": "python",
   "name": "python3"
  },
  "language_info": {
   "codemirror_mode": {
    "name": "ipython",
    "version": 3
   },
   "file_extension": ".py",
   "mimetype": "text/x-python",
   "name": "python",
   "nbconvert_exporter": "python",
   "pygments_lexer": "ipython3",
   "version": "3.7.1"
  }
 },
 "nbformat": 4,
 "nbformat_minor": 2
}
