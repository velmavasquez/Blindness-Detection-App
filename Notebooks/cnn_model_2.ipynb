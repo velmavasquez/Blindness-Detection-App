{
 "cells": [
  {
   "cell_type": "markdown",
   "metadata": {
    "colab_type": "text",
    "id": "r-KwYYHeo5Fj"
   },
   "source": [
    "## This notebook is meant to be run from COLAB"
   ]
  },
  {
   "cell_type": "code",
   "execution_count": 1,
   "metadata": {
    "colab": {},
    "colab_type": "code",
    "id": "I8zo9eTfcAFE"
   },
   "outputs": [],
   "source": [
    "import numpy as np\n",
    "import pandas as pd\n",
    "import matplotlib.pyplot as plt\n",
    "import os\n",
    "import cv2\n",
    "from tqdm import tqdm\n",
    "\n",
    "import pickle\n",
    "import random\n",
    "from sklearn.model_selection import train_test_split\n"
   ]
  },
  {
   "cell_type": "markdown",
   "metadata": {
    "colab_type": "text",
    "id": "uKhH-1UMolz7"
   },
   "source": [
    "## Mounting GDrive"
   ]
  },
  {
   "cell_type": "code",
   "execution_count": 5,
   "metadata": {
    "colab": {
     "base_uri": "https://localhost:8080/",
     "height": 122
    },
    "colab_type": "code",
    "executionInfo": {
     "elapsed": 23288,
     "status": "ok",
     "timestamp": 1563212355276,
     "user": {
      "displayName": "Angel L. Alejandro-Quinones",
      "photoUrl": "https://lh4.googleusercontent.com/-erV9KrJ-sNI/AAAAAAAAAAI/AAAAAAAAAAA/CAjE4Kq_0go/s64/photo.jpg",
      "userId": "00422833750022419994"
     },
     "user_tz": 300
    },
    "id": "-KuqsMDLcyjg",
    "outputId": "35705f1c-3479-4250-9760-417cd8b2378a"
   },
   "outputs": [
    {
     "name": "stdout",
     "output_type": "stream",
     "text": [
      "Go to this URL in a browser: https://accounts.google.com/o/oauth2/auth?client_id=947318989803-6bn6qk8qdgf4n4g3pfee6491hc0brc4i.apps.googleusercontent.com&redirect_uri=urn%3Aietf%3Awg%3Aoauth%3A2.0%3Aoob&scope=email%20https%3A%2F%2Fwww.googleapis.com%2Fauth%2Fdocs.test%20https%3A%2F%2Fwww.googleapis.com%2Fauth%2Fdrive%20https%3A%2F%2Fwww.googleapis.com%2Fauth%2Fdrive.photos.readonly%20https%3A%2F%2Fwww.googleapis.com%2Fauth%2Fpeopleapi.readonly&response_type=code\n",
      "\n",
      "Enter your authorization code:\n",
      "··········\n",
      "Mounted at /content/drive\n"
     ]
    }
   ],
   "source": [
    "# Run this cell to mount your Google Drive.\n",
    "from google.colab import drive\n",
    "drive.mount('/content/drive')\n",
    "# drive.mount('/content/drive/My\\ Drive/Colab\\ Notebooks/IDRID')"
   ]
  },
  {
   "cell_type": "code",
   "execution_count": 6,
   "metadata": {
    "colab": {
     "base_uri": "https://localhost:8080/",
     "height": 34
    },
    "colab_type": "code",
    "executionInfo": {
     "elapsed": 179,
     "status": "ok",
     "timestamp": 1563212358156,
     "user": {
      "displayName": "Angel L. Alejandro-Quinones",
      "photoUrl": "https://lh4.googleusercontent.com/-erV9KrJ-sNI/AAAAAAAAAAI/AAAAAAAAAAA/CAjE4Kq_0go/s64/photo.jpg",
      "userId": "00422833750022419994"
     },
     "user_tz": 300
    },
    "id": "2q6SZKg-cys3",
    "outputId": "a12f7571-b7b0-4915-9a2c-69179835af9e"
   },
   "outputs": [
    {
     "name": "stdout",
     "output_type": "stream",
     "text": [
      "/content/drive/My Drive/Colab_Notebooks/IDRID\n"
     ]
    }
   ],
   "source": [
    "# cd 'My Drive'\n",
    "cd 'drive/My Drive/Colab_Notebooks/IDRID/'"
   ]
  },
  {
   "cell_type": "code",
   "execution_count": 8,
   "metadata": {
    "colab": {
     "base_uri": "https://localhost:8080/",
     "height": 204
    },
    "colab_type": "code",
    "executionInfo": {
     "elapsed": 675,
     "status": "ok",
     "timestamp": 1563212365216,
     "user": {
      "displayName": "Angel L. Alejandro-Quinones",
      "photoUrl": "https://lh4.googleusercontent.com/-erV9KrJ-sNI/AAAAAAAAAAI/AAAAAAAAAAA/CAjE4Kq_0go/s64/photo.jpg",
      "userId": "00422833750022419994"
     },
     "user_tz": 300
    },
    "id": "k3s_1xjScyvI",
    "outputId": "e9f3ff27-2dda-46b2-d406-2cf91b90f7fa"
   },
   "outputs": [
    {
     "name": "stdout",
     "output_type": "stream",
     "text": [
      "angel_blindness_detection.ipynb  trainedmodel_50Epoch.h5\n",
      "cnn1_trained.h5                  trainHistoryOld\n",
      "history.pickle                   \u001b[0m\u001b[01;34mtrain_images\u001b[0m/\n",
      "img_400_gray_brightness.pickle   training_data_brightness.pickle\n",
      "model_trained.h5                 training_data.pickle\n",
      "model_trained_sendexv6.h5        X_brightness.pickle\n",
      "model_trained_sendexv7.h5        X.pickle\n",
      "sentdex_v2.ipynb                 x_train.pickle\n",
      "sentdex_v3                       y_brightness.pickle\n",
      "test.csv                         y.pickle\n",
      "train.csv                        y_train.pickle\n"
     ]
    }
   ],
   "source": [
    "ls"
   ]
  },
  {
   "cell_type": "markdown",
   "metadata": {
    "colab_type": "text",
    "id": "fsXC4yPspZMC"
   },
   "source": [
    "## Load image data from pickle file and store it in 'training_data' array"
   ]
  },
  {
   "cell_type": "code",
   "execution_count": 0,
   "metadata": {
    "colab": {},
    "colab_type": "code",
    "id": "suztV4-scyxv"
   },
   "outputs": [],
   "source": [
    "pickle_in = open(\"training_data_brightness.pickle2\",\"rb\")\n",
    "# pickle_in = open(\"img_400_gray_brightness.pickle\",\"rb\")\n",
    "training_data = pickle.load(pickle_in)"
   ]
  },
  {
   "cell_type": "markdown",
   "metadata": {
    "colab_type": "text",
    "id": "We6-jE6GprYA"
   },
   "source": [
    "## Create X_train, X_test, y_train, y_test\n",
    "## This cell must be run each time the model will be trained"
   ]
  },
  {
   "cell_type": "code",
   "execution_count": 0,
   "metadata": {
    "colab": {},
    "colab_type": "code",
    "id": "71k-tzamcTGW"
   },
   "outputs": [],
   "source": [
    "random.shuffle(training_data)\n",
    "\n",
    "# IMG_SIZE = 400\n",
    "IMG_SIZE = 224\n",
    "\n",
    "X = []\n",
    "y = []\n",
    "\n",
    "# This for loop reads data and creates X and y\n",
    "for features,label in training_data:\n",
    "    X.append(features)\n",
    "    y.append(label)\n",
    "\n",
    "    \n",
    "X = np.array(X).reshape(-1, IMG_SIZE, IMG_SIZE, 1)\n",
    "y = np.array(y).reshape(-1, 1)\n",
    "\n",
    "from sklearn.model_selection import train_test_split\n",
    "X_train, X_test, y_train, y_test = train_test_split(X, y, test_size=0.15)\n"
   ]
  },
  {
   "cell_type": "code",
   "execution_count": 0,
   "metadata": {
    "colab": {},
    "colab_type": "code",
    "id": "vyXXB4OamJhq"
   },
   "outputs": [],
   "source": [
    "# X_train.shape"
   ]
  },
  {
   "cell_type": "code",
   "execution_count": 0,
   "metadata": {
    "colab": {},
    "colab_type": "code",
    "id": "PXyo5WgsnHbW"
   },
   "outputs": [],
   "source": [
    "# X_test[[0],:].shape"
   ]
  },
  {
   "cell_type": "markdown",
   "metadata": {
    "colab_type": "text",
    "id": "FG3ERddHuIrS"
   },
   "source": [
    "## Train the MODEL"
   ]
  },
  {
   "cell_type": "code",
   "execution_count": 26,
   "metadata": {
    "colab": {
     "base_uri": "https://localhost:8080/",
     "height": 1000
    },
    "colab_type": "code",
    "executionInfo": {
     "elapsed": 377353,
     "status": "ok",
     "timestamp": 1563213230372,
     "user": {
      "displayName": "Angel L. Alejandro-Quinones",
      "photoUrl": "https://lh4.googleusercontent.com/-erV9KrJ-sNI/AAAAAAAAAAI/AAAAAAAAAAA/CAjE4Kq_0go/s64/photo.jpg",
      "userId": "00422833750022419994"
     },
     "user_tz": 300
    },
    "id": "Gh-9Bvp2cTPo",
    "outputId": "d20483bd-7f97-41aa-cdb5-f445551d76d9"
   },
   "outputs": [
    {
     "name": "stdout",
     "output_type": "stream",
     "text": [
      "Train on 3112 samples, validate on 550 samples\n",
      "Epoch 1/60\n",
      "3112/3112 [==============================] - 7s 2ms/sample - loss: 1.6151 - acc: 0.3474 - val_loss: 1.6117 - val_acc: 0.2364\n",
      "Epoch 2/60\n",
      "3112/3112 [==============================] - 6s 2ms/sample - loss: 1.5253 - acc: 0.4441 - val_loss: 1.0430 - val_acc: 0.6127\n",
      "Epoch 3/60\n",
      "3112/3112 [==============================] - 6s 2ms/sample - loss: 1.3952 - acc: 0.5035 - val_loss: 1.0829 - val_acc: 0.4764\n",
      "Epoch 4/60\n",
      "3112/3112 [==============================] - 6s 2ms/sample - loss: 1.3552 - acc: 0.4897 - val_loss: 1.0718 - val_acc: 0.5782\n",
      "Epoch 5/60\n",
      "3112/3112 [==============================] - 6s 2ms/sample - loss: 1.3430 - acc: 0.5045 - val_loss: 1.0106 - val_acc: 0.5855\n",
      "Epoch 6/60\n",
      "3112/3112 [==============================] - 6s 2ms/sample - loss: 1.3227 - acc: 0.5254 - val_loss: 0.9937 - val_acc: 0.6109\n",
      "Epoch 7/60\n",
      "3112/3112 [==============================] - 6s 2ms/sample - loss: 1.3075 - acc: 0.5514 - val_loss: 1.1155 - val_acc: 0.5945\n",
      "Epoch 8/60\n",
      "3112/3112 [==============================] - 6s 2ms/sample - loss: 1.2800 - acc: 0.5842 - val_loss: 1.0122 - val_acc: 0.6182\n",
      "Epoch 9/60\n",
      "3112/3112 [==============================] - 6s 2ms/sample - loss: 1.2536 - acc: 0.5739 - val_loss: 1.0198 - val_acc: 0.6236\n",
      "Epoch 10/60\n",
      "3112/3112 [==============================] - 6s 2ms/sample - loss: 1.2262 - acc: 0.6109 - val_loss: 1.0503 - val_acc: 0.6073\n",
      "Epoch 11/60\n",
      "3112/3112 [==============================] - 6s 2ms/sample - loss: 1.2048 - acc: 0.6176 - val_loss: 1.0309 - val_acc: 0.5855\n",
      "Epoch 12/60\n",
      "3112/3112 [==============================] - 6s 2ms/sample - loss: 1.1980 - acc: 0.6199 - val_loss: 1.0328 - val_acc: 0.6236\n",
      "Epoch 13/60\n",
      "3112/3112 [==============================] - 6s 2ms/sample - loss: 1.1726 - acc: 0.6269 - val_loss: 0.9432 - val_acc: 0.6364\n",
      "Epoch 14/60\n",
      "3112/3112 [==============================] - 6s 2ms/sample - loss: 1.1581 - acc: 0.6356 - val_loss: 0.9715 - val_acc: 0.6327\n",
      "Epoch 15/60\n",
      "3112/3112 [==============================] - 6s 2ms/sample - loss: 1.1429 - acc: 0.6552 - val_loss: 0.9917 - val_acc: 0.6327\n",
      "Epoch 16/60\n",
      "3112/3112 [==============================] - 6s 2ms/sample - loss: 1.1132 - acc: 0.6613 - val_loss: 1.0017 - val_acc: 0.6291\n",
      "Epoch 17/60\n",
      "3112/3112 [==============================] - 6s 2ms/sample - loss: 1.0993 - acc: 0.6671 - val_loss: 0.8958 - val_acc: 0.6600\n",
      "Epoch 18/60\n",
      "3112/3112 [==============================] - 6s 2ms/sample - loss: 1.0860 - acc: 0.6652 - val_loss: 0.9338 - val_acc: 0.6691\n",
      "Epoch 19/60\n",
      "3112/3112 [==============================] - 6s 2ms/sample - loss: 1.0617 - acc: 0.6758 - val_loss: 0.8884 - val_acc: 0.6727\n",
      "Epoch 20/60\n",
      "3112/3112 [==============================] - 6s 2ms/sample - loss: 1.0520 - acc: 0.6783 - val_loss: 0.9008 - val_acc: 0.6600\n",
      "Epoch 21/60\n",
      "3112/3112 [==============================] - 6s 2ms/sample - loss: 1.0478 - acc: 0.6783 - val_loss: 0.9738 - val_acc: 0.6473\n",
      "Epoch 22/60\n",
      "3112/3112 [==============================] - 6s 2ms/sample - loss: 1.0189 - acc: 0.6886 - val_loss: 0.8635 - val_acc: 0.6727\n",
      "Epoch 23/60\n",
      "3112/3112 [==============================] - 6s 2ms/sample - loss: 0.9967 - acc: 0.6861 - val_loss: 0.8712 - val_acc: 0.6582\n",
      "Epoch 24/60\n",
      "3112/3112 [==============================] - 6s 2ms/sample - loss: 0.9849 - acc: 0.6947 - val_loss: 0.8304 - val_acc: 0.6873\n",
      "Epoch 25/60\n",
      "3112/3112 [==============================] - 6s 2ms/sample - loss: 0.9471 - acc: 0.7040 - val_loss: 0.8664 - val_acc: 0.6655\n",
      "Epoch 26/60\n",
      "3112/3112 [==============================] - 6s 2ms/sample - loss: 0.9580 - acc: 0.6967 - val_loss: 0.8029 - val_acc: 0.6909\n",
      "Epoch 27/60\n",
      "3112/3112 [==============================] - 6s 2ms/sample - loss: 0.9532 - acc: 0.7118 - val_loss: 0.8733 - val_acc: 0.6745\n",
      "Epoch 28/60\n",
      "3112/3112 [==============================] - 6s 2ms/sample - loss: 0.9075 - acc: 0.7150 - val_loss: 0.8384 - val_acc: 0.6909\n",
      "Epoch 29/60\n",
      "3112/3112 [==============================] - 6s 2ms/sample - loss: 0.9163 - acc: 0.7272 - val_loss: 0.8214 - val_acc: 0.6764\n",
      "Epoch 30/60\n",
      "3112/3112 [==============================] - 6s 2ms/sample - loss: 0.9067 - acc: 0.7227 - val_loss: 0.8749 - val_acc: 0.6764\n",
      "Epoch 31/60\n",
      "3112/3112 [==============================] - 6s 2ms/sample - loss: 0.9041 - acc: 0.7227 - val_loss: 0.8572 - val_acc: 0.6764\n",
      "Epoch 32/60\n",
      "3112/3112 [==============================] - 6s 2ms/sample - loss: 0.8307 - acc: 0.7375 - val_loss: 0.7929 - val_acc: 0.7055\n",
      "Epoch 33/60\n",
      "3112/3112 [==============================] - 6s 2ms/sample - loss: 0.8413 - acc: 0.7407 - val_loss: 0.8012 - val_acc: 0.7055\n",
      "Epoch 34/60\n",
      "3112/3112 [==============================] - 6s 2ms/sample - loss: 0.8388 - acc: 0.7416 - val_loss: 0.8025 - val_acc: 0.6891\n",
      "Epoch 35/60\n",
      "3112/3112 [==============================] - 6s 2ms/sample - loss: 0.8495 - acc: 0.7339 - val_loss: 0.8200 - val_acc: 0.6909\n",
      "Epoch 36/60\n",
      "3112/3112 [==============================] - 6s 2ms/sample - loss: 0.7809 - acc: 0.7574 - val_loss: 0.7853 - val_acc: 0.7055\n",
      "Epoch 37/60\n",
      "3112/3112 [==============================] - 6s 2ms/sample - loss: 0.8093 - acc: 0.7503 - val_loss: 0.8388 - val_acc: 0.6909\n",
      "Epoch 38/60\n",
      "3112/3112 [==============================] - 6s 2ms/sample - loss: 0.8028 - acc: 0.7391 - val_loss: 0.7651 - val_acc: 0.7145\n",
      "Epoch 39/60\n",
      "3112/3112 [==============================] - 6s 2ms/sample - loss: 0.7959 - acc: 0.7580 - val_loss: 0.7886 - val_acc: 0.7145\n",
      "Epoch 40/60\n",
      "3112/3112 [==============================] - 6s 2ms/sample - loss: 0.7756 - acc: 0.7522 - val_loss: 0.7647 - val_acc: 0.7164\n",
      "Epoch 41/60\n",
      "3112/3112 [==============================] - 6s 2ms/sample - loss: 0.7297 - acc: 0.7619 - val_loss: 0.8201 - val_acc: 0.7000\n",
      "Epoch 42/60\n",
      "3112/3112 [==============================] - 6s 2ms/sample - loss: 0.7191 - acc: 0.7702 - val_loss: 0.8056 - val_acc: 0.7091\n",
      "Epoch 43/60\n",
      "3112/3112 [==============================] - 6s 2ms/sample - loss: 0.7197 - acc: 0.7783 - val_loss: 0.8675 - val_acc: 0.6891\n",
      "Epoch 44/60\n",
      "3112/3112 [==============================] - 6s 2ms/sample - loss: 0.6938 - acc: 0.7702 - val_loss: 0.8010 - val_acc: 0.7018\n",
      "Epoch 45/60\n",
      "3112/3112 [==============================] - 6s 2ms/sample - loss: 0.7342 - acc: 0.7677 - val_loss: 0.8337 - val_acc: 0.6836\n",
      "Epoch 46/60\n",
      "3112/3112 [==============================] - 6s 2ms/sample - loss: 0.6913 - acc: 0.7863 - val_loss: 0.7815 - val_acc: 0.7109\n",
      "Epoch 47/60\n",
      "3112/3112 [==============================] - 6s 2ms/sample - loss: 0.7196 - acc: 0.7715 - val_loss: 0.7708 - val_acc: 0.7145\n",
      "Epoch 48/60\n",
      "3112/3112 [==============================] - 6s 2ms/sample - loss: 0.6563 - acc: 0.7850 - val_loss: 0.8093 - val_acc: 0.7218\n",
      "Epoch 49/60\n",
      "3112/3112 [==============================] - 6s 2ms/sample - loss: 0.6808 - acc: 0.7818 - val_loss: 0.8094 - val_acc: 0.7073\n",
      "Epoch 50/60\n",
      "3112/3112 [==============================] - 6s 2ms/sample - loss: 0.6757 - acc: 0.7802 - val_loss: 0.8138 - val_acc: 0.7091\n",
      "Epoch 51/60\n",
      "3112/3112 [==============================] - 6s 2ms/sample - loss: 0.6562 - acc: 0.7895 - val_loss: 0.8550 - val_acc: 0.7073\n",
      "Epoch 52/60\n",
      "3112/3112 [==============================] - 6s 2ms/sample - loss: 0.6658 - acc: 0.7731 - val_loss: 0.8250 - val_acc: 0.7145\n",
      "Epoch 53/60\n",
      "3112/3112 [==============================] - 6s 2ms/sample - loss: 0.6656 - acc: 0.7892 - val_loss: 0.8531 - val_acc: 0.7018\n",
      "Epoch 54/60\n",
      "3112/3112 [==============================] - 6s 2ms/sample - loss: 0.6182 - acc: 0.7963 - val_loss: 0.8098 - val_acc: 0.7236\n",
      "Epoch 55/60\n",
      "3112/3112 [==============================] - 6s 2ms/sample - loss: 0.6417 - acc: 0.7982 - val_loss: 0.8096 - val_acc: 0.7236\n",
      "Epoch 56/60\n",
      "3112/3112 [==============================] - 6s 2ms/sample - loss: 0.6139 - acc: 0.8049 - val_loss: 0.8123 - val_acc: 0.7236\n",
      "Epoch 57/60\n",
      "3112/3112 [==============================] - 6s 2ms/sample - loss: 0.6512 - acc: 0.7915 - val_loss: 0.8484 - val_acc: 0.7200\n",
      "Epoch 58/60\n",
      "3112/3112 [==============================] - 6s 2ms/sample - loss: 0.6157 - acc: 0.7992 - val_loss: 0.7854 - val_acc: 0.7236\n",
      "Epoch 59/60\n",
      "3112/3112 [==============================] - 6s 2ms/sample - loss: 0.6000 - acc: 0.8056 - val_loss: 0.8628 - val_acc: 0.7236\n",
      "Epoch 60/60\n",
      "3112/3112 [==============================] - 6s 2ms/sample - loss: 0.5975 - acc: 0.7992 - val_loss: 0.8304 - val_acc: 0.7236\n"
     ]
    }
   ],
   "source": [
    "import tensorflow as tf\n",
    "from tensorflow.keras.models import Sequential\n",
    "from tensorflow.keras.layers import Dense, Dropout, Activation, Flatten\n",
    "from tensorflow.keras.layers import Conv2D, MaxPooling2D, BatchNormalization\n",
    "from keras.utils import to_categorical\n",
    "from keras.callbacks import ModelCheckpoint\n",
    "\n",
    "X_train = X_train/255.0\n",
    "y_train = to_categorical(y_train)\n",
    "X_test = X_test/255.0\n",
    "y_test = to_categorical(y_test)\n",
    "\n",
    "\n",
    "# Here is the model\n",
    "model = Sequential()\n",
    "\n",
    "model.add(Conv2D(32, (3, 3), input_shape=X_train.shape[1:]))\n",
    "model.add(Activation('relu'))\n",
    "model.add(MaxPooling2D(pool_size=(2, 2)))\n",
    "model.add(Dropout(0.25))\n",
    "\n",
    "model.add(Conv2D(64, (3, 3)))\n",
    "model.add(Activation('relu'))\n",
    "model.add(MaxPooling2D(pool_size=(2, 2)))\n",
    "model.add(Dropout(0.25)) \n",
    "\n",
    "model.add(Conv2D(64, (3, 3)))\n",
    "model.add(Activation('relu'))\n",
    "model.add(MaxPooling2D(pool_size=(2, 2)))\n",
    "model.add(Dropout(0.25)) \n",
    "\n",
    "model.add(Conv2D(64, (3, 3)))\n",
    "model.add(Activation('relu'))\n",
    "model.add(MaxPooling2D(pool_size=(2, 2)))\n",
    "model.add(Dropout(0.25)) \n",
    "\n",
    "model.add(Conv2D(16, (3, 3)))\n",
    "model.add(Activation('relu'))\n",
    "model.add(MaxPooling2D(pool_size=(2, 2)))\n",
    "model.add(Dropout(0.25)) \n",
    "\n",
    "model.add(Flatten())\n",
    "\n",
    "# model.add(Dense(256))\n",
    "# model.add(Activation('relu'))\n",
    "# model.add(Dropout(0.25))\n",
    "\n",
    "model.add(Dense(5))\n",
    "# model.add(Activation('sigmoid'))\n",
    "# softmax is commonly used for classification of multiple categories\n",
    "model.add(Activation('softmax'))\n",
    "\n",
    "\n",
    "model.compile(loss='categorical_crossentropy',\n",
    "              optimizer='adam',\n",
    "#               optimizer='sgd',\n",
    "#               optimizer='rmsprop',\n",
    "              metrics=['accuracy'])              \n",
    "#               metrics=['categorical_accuracy'])\n",
    "\n",
    "\n",
    "\n",
    "# history = model.fit(X, y, batch_size=32, epochs=50, validation_split=0.15,class_weight={0:0.4057, 1:1.9794, 2:0.7331, 3:3.7948, 4:2.4827})\n",
    "# model.fit(X_train, y_train, batch_size=32, epochs=3, validation_data=(X_test, y_test),callbacks=[mcp])#, class_weight={0:0.4057, 1:1.9794, 2:0.7331, 3:3.7948, 4:2.4827})\n",
    "# history = model.fit(X_train, y_train, batch_size=64, epochs=10, validation_data=(X_test, y_test))#, class_weight={0:0.4057, 1:1.9794, 2:0.7331, 3:3.7948, 4:2.4827})\n",
    "history = model.fit(X_train, y_train, batch_size=32, epochs=60, validation_data=(X_test, y_test), class_weight={0:0.4057, 1:1.9794, 2:0.7331, 3:3.7948, 4:2.4827})\n",
    "\n",
    "\n"
   ]
  },
  {
   "cell_type": "code",
   "execution_count": 27,
   "metadata": {
    "colab": {
     "base_uri": "https://localhost:8080/",
     "height": 283
    },
    "colab_type": "code",
    "executionInfo": {
     "elapsed": 380,
     "status": "ok",
     "timestamp": 1563213241817,
     "user": {
      "displayName": "Angel L. Alejandro-Quinones",
      "photoUrl": "https://lh4.googleusercontent.com/-erV9KrJ-sNI/AAAAAAAAAAI/AAAAAAAAAAA/CAjE4Kq_0go/s64/photo.jpg",
      "userId": "00422833750022419994"
     },
     "user_tz": 300
    },
    "id": "ivWYuJufcTRv",
    "outputId": "cf1ed272-b21c-40d3-f8fe-868ab80e2d91"
   },
   "outputs": [
    {
     "data": {
      "image/png": "[encoded data removed]",
      "text/plain": [
       "<Figure size 432x288 with 1 Axes>"
      ]
     },
     "metadata": {
      "tags": []
     },
     "output_type": "display_data"
    }
   ],
   "source": [
    "acc = history.history['acc']\n",
    "val_acc = history.history['val_acc']\n",
    " \n",
    "plt.plot(acc)\n",
    "plt.plot(val_acc)\n",
    "plt.ylabel('Accuracy')\n",
    "plt.xlabel('Epoch')\n",
    "plt.legend(['acc', 'val_acc'], loc='upper left')\n",
    "plt.show()"
   ]
  },
  {
   "cell_type": "code",
   "execution_count": 28,
   "metadata": {
    "colab": {
     "base_uri": "https://localhost:8080/",
     "height": 283
    },
    "colab_type": "code",
    "executionInfo": {
     "elapsed": 334,
     "status": "ok",
     "timestamp": 1563213248769,
     "user": {
      "displayName": "Angel L. Alejandro-Quinones",
      "photoUrl": "https://lh4.googleusercontent.com/-erV9KrJ-sNI/AAAAAAAAAAI/AAAAAAAAAAA/CAjE4Kq_0go/s64/photo.jpg",
      "userId": "00422833750022419994"
     },
     "user_tz": 300
    },
    "id": "jUzuGyiEcTUn",
    "outputId": "30319677-a6e1-4a0e-dd36-09974e4acf5b"
   },
   "outputs": [
    {
     "data": {
      "image/png": "[encoded data removed]",
      "text/plain": [
       "<Figure size 432x288 with 1 Axes>"
      ]
     },
     "metadata": {
      "tags": []
     },
     "output_type": "display_data"
    }
   ],
   "source": [
    "loss = history.history['loss']\n",
    "val_loss = history.history['val_loss']\n",
    " \n",
    "plt.plot(loss)\n",
    "plt.plot(val_loss)\n",
    "plt.ylabel('Loss')\n",
    "plt.xlabel('Epoch')\n",
    "plt.legend(['loss', 'val_loss'], loc='upper left')\n",
    "plt.show()"
   ]
  },
  {
   "cell_type": "code",
   "execution_count": 29,
   "metadata": {
    "colab": {
     "base_uri": "https://localhost:8080/",
     "height": 51
    },
    "colab_type": "code",
    "executionInfo": {
     "elapsed": 572,
     "status": "ok",
     "timestamp": 1563213254717,
     "user": {
      "displayName": "Angel L. Alejandro-Quinones",
      "photoUrl": "https://lh4.googleusercontent.com/-erV9KrJ-sNI/AAAAAAAAAAI/AAAAAAAAAAA/CAjE4Kq_0go/s64/photo.jpg",
      "userId": "00422833750022419994"
     },
     "user_tz": 300
    },
    "id": "c5FT-zCzs3g6",
    "outputId": "60bf5a7c-8027-4858-bdfc-1f8bcdf95d5f"
   },
   "outputs": [
    {
     "name": "stdout",
     "output_type": "stream",
     "text": [
      "550/550 [==============================] - 0s 851us/sample - loss: 0.8304 - acc: 0.7236\n"
     ]
    },
    {
     "data": {
      "text/plain": [
       "[0.8304180309989235, 0.7236364]"
      ]
     },
     "execution_count": 29,
     "metadata": {
      "tags": []
     },
     "output_type": "execute_result"
    }
   ],
   "source": [
    "model.evaluate(X_test, y_test)"
   ]
  },
  {
   "cell_type": "code",
   "execution_count": 0,
   "metadata": {
    "colab": {},
    "colab_type": "code",
    "id": "yNygOvp8xZWu"
   },
   "outputs": [],
   "source": [
    "# model.summary()"
   ]
  },
  {
   "cell_type": "code",
   "execution_count": 0,
   "metadata": {
    "colab": {},
    "colab_type": "code",
    "id": "DIW6dFOLfxLZ"
   },
   "outputs": [],
   "source": [
    "from sklearn.metrics import confusion_matrix\n",
    "from sklearn.metrics import cohen_kappa_score\n",
    "from sklearn.metrics import f1_score\n",
    "import itertools\n",
    "\n",
    "prediction_vector = np.argmax(model.predict(X_test), axis=1)\n",
    "label_vector = np.argmax(y_test, axis=1)\n",
    "\n",
    "cm = confusion_matrix(label_vector,prediction_vector)\n",
    "f1 = f1_score(label_vector,prediction_vector, average='weighted')\n",
    "kappa = cohen_kappa_score(label_vector,prediction_vector,weights='quadratic')\n",
    "\n",
    "cm_labels = ['No_DR','Mild','Moderate','Severe','Proliferate_DR']"
   ]
  },
  {
   "cell_type": "markdown",
   "metadata": {
    "colab_type": "text",
    "id": "p78XWDL1xyAB"
   },
   "source": [
    "## Print out model metrics"
   ]
  },
  {
   "cell_type": "code",
   "execution_count": 31,
   "metadata": {
    "colab": {
     "base_uri": "https://localhost:8080/",
     "height": 170
    },
    "colab_type": "code",
    "executionInfo": {
     "elapsed": 125,
     "status": "ok",
     "timestamp": 1563213261674,
     "user": {
      "displayName": "Angel L. Alejandro-Quinones",
      "photoUrl": "https://lh4.googleusercontent.com/-erV9KrJ-sNI/AAAAAAAAAAI/AAAAAAAAAAA/CAjE4Kq_0go/s64/photo.jpg",
      "userId": "00422833750022419994"
     },
     "user_tz": 300
    },
    "id": "tgZY2XGBRJ7F",
    "outputId": "c768e7a9-d495-4f96-9b43-c5901d31f1a5"
   },
   "outputs": [
    {
     "name": "stdout",
     "output_type": "stream",
     "text": [
      "[[269  11  11   0   0]\n",
      " [  6  26   9   2   6]\n",
      " [  5  20  73   7  25]\n",
      " [  0   3   8  11   8]\n",
      " [  2   8  14   7  19]]\n",
      "\n",
      "f1: 0.7302615206980834\n",
      "\n",
      "kappa: 0.7638420105768342\n"
     ]
    }
   ],
   "source": [
    "print(cm)\n",
    "print('\\nf1: '+str(f1))\n",
    "print('\\nkappa: '+str(kappa))"
   ]
  },
  {
   "cell_type": "code",
   "execution_count": 0,
   "metadata": {
    "colab": {},
    "colab_type": "code",
    "id": "sIT9X7UXMeOE"
   },
   "outputs": [],
   "source": []
  },
  {
   "cell_type": "code",
   "execution_count": 0,
   "metadata": {
    "colab": {},
    "colab_type": "code",
    "id": "WsGG6Pz9fxB9"
   },
   "outputs": [],
   "source": [
    "# Boilerplate code from sklearn website\n",
    "# https://scikit-learn.org/stable/auto_examples/model_selection/plot_confusion_matrix.html\n",
    "\n",
    "def plot_confusion_matrix(y_true, y_pred, classes,\n",
    "                          normalize=False,\n",
    "                          title=None,\n",
    "                          cmap=plt.cm.Blues):\n",
    "    \"\"\"\n",
    "    This function prints and plots the confusion matrix.\n",
    "    Normalization can be applied by setting `normalize=True`.\n",
    "    \"\"\"\n",
    "    if not title:\n",
    "        if normalize:\n",
    "            title = 'Normalized confusion matrix'\n",
    "        else:\n",
    "            title = 'Confusion matrix, without normalization'\n",
    "\n",
    "    # Compute confusion matrix\n",
    "    cm = confusion_matrix(y_true, y_pred)\n",
    "    # Only use the labels that appear in the data\n",
    "#     classes = classes[unique_labels(y_true, y_pred)]\n",
    "    if normalize:\n",
    "        cm = cm.astype('float') / cm.sum(axis=1)[:, np.newaxis]\n",
    "        print(\"Normalized confusion matrix\")\n",
    "    else:\n",
    "        print('Confusion matrix, without normalization')\n",
    "\n",
    "    print(cm)\n",
    "\n",
    "    fig, ax = plt.subplots()\n",
    "    im = ax.imshow(cm, interpolation='nearest', cmap=cmap)\n",
    "    ax.figure.colorbar(im, ax=ax)\n",
    "    # We want to show all ticks...\n",
    "    ax.set(xticks=np.arange(cm.shape[1]),\n",
    "           yticks=np.arange(cm.shape[0]),\n",
    "           # ... and label them with the respective list entries\n",
    "           xticklabels=classes, yticklabels=classes,\n",
    "           title=title,\n",
    "           ylabel='True label',\n",
    "           xlabel='Predicted label')\n",
    "\n",
    "    # Rotate the tick labels and set their alignment.\n",
    "    plt.setp(ax.get_xticklabels(), rotation=45, ha=\"right\",\n",
    "             rotation_mode=\"anchor\")\n",
    "\n",
    "    # Loop over data dimensions and create text annotations.\n",
    "    fmt = '.2f' if normalize else 'd'\n",
    "    thresh = cm.max() / 2.\n",
    "    for i in range(cm.shape[0]):\n",
    "        for j in range(cm.shape[1]):\n",
    "            ax.text(j, i, format(cm[i, j], fmt),\n",
    "                    ha=\"center\", va=\"center\",\n",
    "                    color=\"white\" if cm[i, j] > thresh else \"black\")\n",
    "    fig.tight_layout()\n",
    "    return ax"
   ]
  },
  {
   "cell_type": "code",
   "execution_count": 33,
   "metadata": {
    "colab": {
     "base_uri": "https://localhost:8080/",
     "height": 416
    },
    "colab_type": "code",
    "executionInfo": {
     "elapsed": 432,
     "status": "ok",
     "timestamp": 1563213274976,
     "user": {
      "displayName": "Angel L. Alejandro-Quinones",
      "photoUrl": "https://lh4.googleusercontent.com/-erV9KrJ-sNI/AAAAAAAAAAI/AAAAAAAAAAA/CAjE4Kq_0go/s64/photo.jpg",
      "userId": "00422833750022419994"
     },
     "user_tz": 300
    },
    "id": "vowLmPuxi49v",
    "outputId": "dbf23b9e-e824-4ad0-8237-69f40205045a"
   },
   "outputs": [
    {
     "name": "stdout",
     "output_type": "stream",
     "text": [
      "Confusion matrix, without normalization\n",
      "[[269  11  11   0   0]\n",
      " [  6  26   9   2   6]\n",
      " [  5  20  73   7  25]\n",
      " [  0   3   8  11   8]\n",
      " [  2   8  14   7  19]]\n"
     ]
    },
    {
     "data": {
      "text/plain": [
       "<matplotlib.axes._subplots.AxesSubplot at 0x7f3016233128>"
      ]
     },
     "execution_count": 33,
     "metadata": {
      "tags": []
     },
     "output_type": "execute_result"
    },
    {
     "data": {
      "image/png": "[encoded data removed]",
      "text/plain": [
       "<Figure size 432x288 with 2 Axes>"
      ]
     },
     "metadata": {
      "tags": []
     },
     "output_type": "display_data"
    }
   ],
   "source": [
    "plot_confusion_matrix(label_vector, prediction_vector, cm_labels, title='Confusion Matrix')"
   ]
  },
  {
   "cell_type": "code",
   "execution_count": 34,
   "metadata": {
    "colab": {
     "base_uri": "https://localhost:8080/",
     "height": 416
    },
    "colab_type": "code",
    "executionInfo": {
     "elapsed": 417,
     "status": "ok",
     "timestamp": 1563213278465,
     "user": {
      "displayName": "Angel L. Alejandro-Quinones",
      "photoUrl": "https://lh4.googleusercontent.com/-erV9KrJ-sNI/AAAAAAAAAAI/AAAAAAAAAAA/CAjE4Kq_0go/s64/photo.jpg",
      "userId": "00422833750022419994"
     },
     "user_tz": 300
    },
    "id": "6v09O0MLnkwh",
    "outputId": "e94c20fb-8c53-47f7-a947-e48ba3828565"
   },
   "outputs": [
    {
     "name": "stdout",
     "output_type": "stream",
     "text": [
      "Normalized confusion matrix\n",
      "[[0.92439863 0.03780069 0.03780069 0.         0.        ]\n",
      " [0.12244898 0.53061224 0.18367347 0.04081633 0.12244898]\n",
      " [0.03846154 0.15384615 0.56153846 0.05384615 0.19230769]\n",
      " [0.         0.1        0.26666667 0.36666667 0.26666667]\n",
      " [0.04       0.16       0.28       0.14       0.38      ]]\n"
     ]
    },
    {
     "data": {
      "text/plain": [
       "<matplotlib.axes._subplots.AxesSubplot at 0x7f2f09fd9630>"
      ]
     },
     "execution_count": 34,
     "metadata": {
      "tags": []
     },
     "output_type": "execute_result"
    },
    {
     "data": {
      "image/png": "[encoded data removed]",
      "text/plain": [
       "<Figure size 432x288 with 2 Axes>"
      ]
     },
     "metadata": {
      "tags": []
     },
     "output_type": "display_data"
    }
   ],
   "source": [
    "plot_confusion_matrix(label_vector, prediction_vector, cm_labels, normalize=True, title='Confusion Matrix')"
   ]
  },
  {
   "cell_type": "code",
   "execution_count": 0,
   "metadata": {
    "colab": {},
    "colab_type": "code",
    "id": "h6MWpqlwE1ZA"
   },
   "outputs": [],
   "source": [
    "# model.save(\"cnn1_trained.h5\")"
   ]
  },
  {
   "cell_type": "code",
   "execution_count": 0,
   "metadata": {
    "colab": {},
    "colab_type": "code",
    "id": "1z78bJnPE1Tq"
   },
   "outputs": [],
   "source": []
  }
 ],
 "metadata": {
  "accelerator": "GPU",
  "colab": {
   "collapsed_sections": [],
   "name": "cnn_model_1",
   "provenance": [
    {
     "file_id": "1AIO45RVLAfvQZPs3eRpYUeW05WFK6VqK",
     "timestamp": 1563155353943
    },
    {
     "file_id": "1DNRtxTvNijrIS1ciUaO1fD3M6LYh12Ts",
     "timestamp": 1563148212385
    },
    {
     "file_id": "13i7NsXNQuQVmaqxInr0Xvqkl2KJt27b1",
     "timestamp": 1562952706444
    },
    {
     "file_id": "1fLCFGQ8NZBVT5cbJrRUCZM8icLIKSgX2",
     "timestamp": 1562897827080
    },
    {
     "file_id": "1-TCv-d7bt2ZqrY7ZXmzjHTgqcVZjhy-6",
     "timestamp": 1562732045447
    },
    {
     "file_id": "1mxwIN9LZiYxuhNFuv7USHKkpWzzWLFC0",
     "timestamp": 1562718389288
    }
   ],
   "version": "0.3.2"
  },
  "kernelspec": {
   "display_name": "Python 3",
   "language": "python",
   "name": "python3"
  },
  "language_info": {
   "codemirror_mode": {
    "name": "ipython",
    "version": 3
   },
   "file_extension": ".py",
   "mimetype": "text/x-python",
   "name": "python",
   "nbconvert_exporter": "python",
   "pygments_lexer": "ipython3",
   "version": "3.7.1"
  }
 },
 "nbformat": 4,
 "nbformat_minor": 1
}
