{
  "nbformat": 4,
  "nbformat_minor": 0,
  "metadata": {
    "colab": {
      "name": "sentdex_v4_fit_only.ipynb",
      "version": "0.3.2",
      "provenance": [],
      "include_colab_link": true
    },
    "language_info": {
      "codemirror_mode": {
        "name": "ipython",
        "version": 3
      },
      "file_extension": ".py",
      "mimetype": "text/x-python",
      "name": "python",
      "nbconvert_exporter": "python",
      "pygments_lexer": "ipython3",
      "version": "3.7.1"
    },
    "kernelspec": {
      "display_name": "Python 3",
      "language": "python",
      "name": "python3"
    }
  },
  "cells": [
    {
      "cell_type": "markdown",
      "metadata": {
        "id": "view-in-github",
        "colab_type": "text"
      },
      "source": [
        "<a href=\"https://colab.research.google.com/github/velmavasquez/Blindness-Detection-App/blob/master/BD-Model/sentdex_v4_fit_only.ipynb\" target=\"_parent\"><img src=\"https://colab.research.google.com/assets/colab-badge.svg\" alt=\"Open In Colab\"/></a>"
      ]
    },
    {
      "cell_type": "code",
      "metadata": {
        "id": "UKd9hOus_zEa",
        "colab_type": "code",
        "colab": {}
      },
      "source": [
        "# https://pythonprogramming.net/loading-custom-data-deep-learning-python-tensorflow-keras/\n"
      ],
      "execution_count": 0,
      "outputs": []
    },
    {
      "cell_type": "code",
      "metadata": {
        "id": "A3O44XAh_zEf",
        "colab_type": "code",
        "colab": {}
      },
      "source": [
        ""
      ],
      "execution_count": 0,
      "outputs": []
    },
    {
      "cell_type": "code",
      "metadata": {
        "id": "E9J3JEw0_zEi",
        "colab_type": "code",
        "colab": {}
      },
      "source": [
        "import numpy as np\n",
        "import pandas as pd\n",
        "import matplotlib.pyplot as plt\n",
        "import os\n",
        "import cv2\n",
        "from tqdm import tqdm\n",
        "\n",
        "#must install pickle\n",
        "import pickle"
      ],
      "execution_count": 0,
      "outputs": []
    },
    {
      "cell_type": "code",
      "metadata": {
        "id": "ebYrmNKi_zEl",
        "colab_type": "code",
        "colab": {}
      },
      "source": [
        "import os"
      ],
      "execution_count": 0,
      "outputs": []
    },
    {
      "cell_type": "code",
      "metadata": {
        "id": "BWoDFWkT_zEn",
        "colab_type": "code",
        "colab": {
          "base_uri": "https://localhost:8080/",
          "height": 122
        },
        "outputId": "9f3f1fe4-3234-4dea-bb2c-281710ce25ea"
      },
      "source": [
        "# Load the Drive helper and mount \n",
        "from google.colab import drive\n",
        "\n",
        "# Authorization set up\n",
        "drive.mount('/content/drive')"
      ],
      "execution_count": 4,
      "outputs": [
        {
          "output_type": "stream",
          "text": [
            "Go to this URL in a browser: https://accounts.google.com/o/oauth2/auth?client_id=947318989803-6bn6qk8qdgf4n4g3pfee6491hc0brc4i.apps.googleusercontent.com&redirect_uri=urn%3Aietf%3Awg%3Aoauth%3A2.0%3Aoob&scope=email%20https%3A%2F%2Fwww.googleapis.com%2Fauth%2Fdocs.test%20https%3A%2F%2Fwww.googleapis.com%2Fauth%2Fdrive%20https%3A%2F%2Fwww.googleapis.com%2Fauth%2Fdrive.photos.readonly%20https%3A%2F%2Fwww.googleapis.com%2Fauth%2Fpeopleapi.readonly&response_type=code\n",
            "\n",
            "Enter your authorization code:\n",
            "··········\n",
            "Mounted at /content/drive\n"
          ],
          "name": "stdout"
        }
      ]
    },
    {
      "cell_type": "code",
      "metadata": {
        "id": "k-eMoyxG_zEp",
        "colab_type": "code",
        "colab": {
          "base_uri": "https://localhost:8080/",
          "height": 34
        },
        "outputId": "c9aaa30f-c8f0-4733-c484-ed5434def80b"
      },
      "source": [
        "# Google Drive working directory path \n",
        "cd \"/content/drive/My Drive/DataAnalyticsProjects/Blindness-Detection-App\""
      ],
      "execution_count": 5,
      "outputs": [
        {
          "output_type": "stream",
          "text": [
            "/content/drive/My Drive/DataAnalyticsProjects/Blindness-Detection-App\n"
          ],
          "name": "stdout"
        }
      ]
    },
    {
      "cell_type": "code",
      "metadata": {
        "id": "pjy6uKnG_zEs",
        "colab_type": "code",
        "colab": {
          "base_uri": "https://localhost:8080/",
          "height": 34
        },
        "outputId": "a9e359cf-2912-4738-e22a-d2b30b21c581"
      },
      "source": [
        "pwd"
      ],
      "execution_count": 6,
      "outputs": [
        {
          "output_type": "execute_result",
          "data": {
            "text/plain": [
              "'/content/drive/My Drive/DataAnalyticsProjects/Blindness-Detection-App'"
            ]
          },
          "metadata": {
            "tags": []
          },
          "execution_count": 6
        }
      ]
    },
    {
      "cell_type": "code",
      "metadata": {
        "id": "DjjhF1nP_zEy",
        "colab_type": "code",
        "colab": {
          "base_uri": "https://localhost:8080/",
          "height": 68
        },
        "outputId": "dd413e98-a4f1-439f-d0d6-9267597360e4"
      },
      "source": [
        "ls *.pickle"
      ],
      "execution_count": 7,
      "outputs": [
        {
          "output_type": "stream",
          "text": [
            "training_data_brightness.pickle  X_brightness.pickle  y_brightness.pickle\n",
            "training_data_color.pickle       X_color.pickle       y_color.pickle\n",
            "training_data.pickle             X.pickle             y.pickle\n"
          ],
          "name": "stdout"
        }
      ]
    },
    {
      "cell_type": "code",
      "metadata": {
        "id": "nBAgZTst_zE1",
        "colab_type": "code",
        "colab": {}
      },
      "source": [
        "# READ .picle files, they must be on your local directory\n",
        "\n",
        "# pickle_in = open(\"X.pickle\",\"rb\")\n",
        "# X = pickle.load(pickle_in)\n",
        "\n",
        "# pickle_in = open(\"y.pickle\",\"rb\")\n",
        "# y = pickle.load(pickle_in)\n",
        "\n",
        "# pickle_in = open(\"training_data.pickle\",\"rb\")\n",
        "# training_data = pickle.load(pickle_in)\n",
        "\n",
        "pickle_in = open(\"X_brightness.pickle\",\"rb\")\n",
        "X = pickle.load(pickle_in)\n",
        "\n",
        "pickle_in = open(\"y_brightness.pickle\",\"rb\")\n",
        "y = pickle.load(pickle_in)\n",
        "\n",
        "pickle_in = open(\"training_data_brightness.pickle\",\"rb\")\n",
        "training_data = pickle.load(pickle_in)"
      ],
      "execution_count": 0,
      "outputs": []
    },
    {
      "cell_type": "code",
      "metadata": {
        "id": "LjCS65bX_zE4",
        "colab_type": "code",
        "colab": {}
      },
      "source": [
        ""
      ],
      "execution_count": 0,
      "outputs": []
    },
    {
      "cell_type": "markdown",
      "metadata": {
        "id": "Hv22mayI_zE6",
        "colab_type": "text"
      },
      "source": [
        "## Once pickle files are loaded, only execute the cells below before every model run"
      ]
    },
    {
      "cell_type": "code",
      "metadata": {
        "id": "JZKQwHRe_zE7",
        "colab_type": "code",
        "colab": {}
      },
      "source": [
        "import random\n",
        "random.shuffle(training_data)"
      ],
      "execution_count": 0,
      "outputs": []
    },
    {
      "cell_type": "code",
      "metadata": {
        "id": "N4-vUBcD_zFE",
        "colab_type": "code",
        "colab": {}
      },
      "source": [
        "# for sample in training_data[:10]:\n",
        "#     print(sample[1])"
      ],
      "execution_count": 0,
      "outputs": []
    },
    {
      "cell_type": "code",
      "metadata": {
        "id": "RsZxaIQB_zFH",
        "colab_type": "code",
        "colab": {}
      },
      "source": [
        "X = []\n",
        "y = []"
      ],
      "execution_count": 0,
      "outputs": []
    },
    {
      "cell_type": "code",
      "metadata": {
        "id": "O_RSuavB_zFK",
        "colab_type": "code",
        "colab": {}
      },
      "source": [
        "IMG_SIZE = 224\n",
        "\n",
        "for features,label in training_data:\n",
        "    X.append(features)\n",
        "    y.append(label)\n",
        "\n",
        "# print(X[0].reshape(-1, IMG_SIZE, IMG_SIZE, 1))\n",
        "\n",
        "X = np.array(X).reshape(-1, IMG_SIZE, IMG_SIZE, 1)\n",
        "\n",
        "# Angel - Added this line cause y was a list and it need to be a numpy array\n",
        "y = np.array(y).reshape(-1, 1)"
      ],
      "execution_count": 0,
      "outputs": []
    },
    {
      "cell_type": "code",
      "metadata": {
        "id": "-Qm-xWBP_zFN",
        "colab_type": "code",
        "colab": {}
      },
      "source": [
        "# X.shape"
      ],
      "execution_count": 0,
      "outputs": []
    },
    {
      "cell_type": "code",
      "metadata": {
        "id": "zppUIPm5_zFQ",
        "colab_type": "code",
        "colab": {}
      },
      "source": [
        "# y.shape"
      ],
      "execution_count": 0,
      "outputs": []
    },
    {
      "cell_type": "code",
      "metadata": {
        "id": "tDPqMswS_zFS",
        "colab_type": "code",
        "colab": {}
      },
      "source": [
        ""
      ],
      "execution_count": 0,
      "outputs": []
    },
    {
      "cell_type": "code",
      "metadata": {
        "id": "9nX7uMbS_zFV",
        "colab_type": "code",
        "colab": {}
      },
      "source": [
        "# PART 3"
      ],
      "execution_count": 0,
      "outputs": []
    },
    {
      "cell_type": "code",
      "metadata": {
        "scrolled": true,
        "id": "MNvb9Go8_zFY",
        "colab_type": "code",
        "colab": {
          "base_uri": "https://localhost:8080/",
          "height": 122
        },
        "outputId": "9d24fef5-ec54-446f-d586-aa5f4bc0463b"
      },
      "source": [
        "import tensorflow as tf\n",
        "# from tensorflow.keras.datasets import cifar10\n",
        "# from tensorflow.keras.preprocessing.image import ImageDataGenerator\n",
        "from tensorflow.keras.models import Sequential\n",
        "from tensorflow.keras.layers import Dense, Dropout, Activation, Flatten\n",
        "from tensorflow.keras.layers import Conv2D, MaxPooling2D\n",
        "from keras.utils import to_categorical\n",
        "\n",
        "\n",
        "X = X/255.0\n",
        "y = to_categorical(y)\n",
        "\n",
        "\n",
        "model = Sequential()\n",
        "\n",
        "model.add(Conv2D(16, (3, 3), input_shape=X.shape[1:]))\n",
        "model.add(Activation('relu'))\n",
        "model.add(Dropout(0.25)) \n",
        "model.add(MaxPooling2D(pool_size=(2, 2)))\n",
        "\n",
        "# model.add(Conv2D(16, (3, 3)))\n",
        "# model.add(Activation('relu'))\n",
        "# model.add(Dropout(0.25)) \n",
        "# model.add(MaxPooling2D(pool_size=(2, 2)))\n",
        "\n",
        "# model.add(Conv2D(16, (3, 3)))\n",
        "# model.add(Activation('relu'))\n",
        "# model.add(Dropout(0.25)) \n",
        "# model.add(MaxPooling2D(pool_size=(2, 2)))\n",
        "\n",
        "model.add(Flatten())  # this converts our 3D feature maps to 1D feature vectors\n",
        "\n",
        "model.add(Dense(5))\n",
        "# model.add(Activation('sigmoid'))\n",
        "model.add(Activation('softmax'))\n",
        "\n",
        "\n",
        "# model.compile(loss='binary_crossentropy',\n",
        "model.compile(loss='categorical_crossentropy',\n",
        "              optimizer='adam',\n",
        "#               optimizer='rmsprop',\n",
        "              metrics=['accuracy'])\n",
        "\n",
        "history = model.fit(X, y, batch_size=32, epochs=5, validation_split=0.15,class_weight={0:0.4057, 1:1.9794, 2:0.7331, 3:3.7948, 4:2.4827},verbose=0)"
      ],
      "execution_count": 0,
      "outputs": [
        {
          "output_type": "stream",
          "text": [
            "Using TensorFlow backend.\n",
            "WARNING: Logging before flag parsing goes to stderr.\n",
            "W0712 07:08:46.781156 140560875431808 deprecation.py:506] From /usr/local/lib/python3.6/dist-packages/tensorflow/python/ops/init_ops.py:1251: calling VarianceScaling.__init__ (from tensorflow.python.ops.init_ops) with dtype is deprecated and will be removed in a future version.\n",
            "Instructions for updating:\n",
            "Call initializer instance with the dtype argument instead of passing it to the constructor\n"
          ],
          "name": "stderr"
        }
      ]
    },
    {
      "cell_type": "code",
      "metadata": {
        "id": "856Ax_na_zFb",
        "colab_type": "code",
        "colab": {},
        "outputId": "bb739421-db49-4546-fb32-a569bb22982f"
      },
      "source": [
        "acc = history.history['acc']\n",
        "val_acc = history.history['val_acc']\n",
        " \n",
        "plt.plot(acc)\n",
        "plt.plot(val_acc)\n",
        "plt.ylabel('Accuracy')\n",
        "plt.xlabel('Epoch')\n",
        "plt.legend(['acc', 'val_acc'], loc='upper left')\n",
        "plt.show()"
      ],
      "execution_count": 0,
      "outputs": [
        {
          "output_type": "display_data",
          "data": {
            "image/png": "[encoded data removed]",
            "text/plain": [
              "<Figure size 432x288 with 1 Axes>"
            ]
          },
          "metadata": {
            "tags": [],
            "needs_background": "light"
          }
        }
      ]
    },
    {
      "cell_type": "code",
      "metadata": {
        "id": "y79ybkCy_zFf",
        "colab_type": "code",
        "colab": {},
        "outputId": "b3dfba62-9a2a-45bd-ecb7-191183344d46"
      },
      "source": [
        "loss = history.history['loss']\n",
        "val_loss = history.history['val_loss']\n",
        " \n",
        "plt.plot(loss)\n",
        "plt.plot(val_loss)\n",
        "plt.ylabel('Loss')\n",
        "plt.xlabel('Epoch')\n",
        "plt.legend(['loss', 'val_loss'], loc='upper left')\n",
        "plt.show()"
      ],
      "execution_count": 0,
      "outputs": [
        {
          "output_type": "display_data",
          "data": {
            "image/png": "[encoded data removed]",
            "text/plain": [
              "<Figure size 432x288 with 1 Axes>"
            ]
          },
          "metadata": {
            "tags": [],
            "needs_background": "light"
          }
        }
      ]
    },
    {
      "cell_type": "code",
      "metadata": {
        "id": "hOFedp0d_zFj",
        "colab_type": "code",
        "colab": {},
        "outputId": "5ad21845-97e6-4c5e-fb24-d05ad93b7158"
      },
      "source": [
        "test_loss, test_acc = model.evaluate(X, y)\n",
        "print('Test accuracy: ',test_acc)\n",
        "print('Test loss: ',test_loss)"
      ],
      "execution_count": 0,
      "outputs": [
        {
          "output_type": "stream",
          "text": [
            "3662/3662 [==============================] - ETA: 28s - loss: 0.3915 - acc: 0.93 - ETA: 24s - loss: 0.4276 - acc: 0.93 - ETA: 22s - loss: 0.4443 - acc: 0.90 - ETA: 21s - loss: 0.4405 - acc: 0.90 - ETA: 21s - loss: 0.4450 - acc: 0.90 - ETA: 21s - loss: 0.4464 - acc: 0.90 - ETA: 20s - loss: 0.4392 - acc: 0.91 - ETA: 20s - loss: 0.4173 - acc: 0.91 - ETA: 19s - loss: 0.4102 - acc: 0.91 - ETA: 19s - loss: 0.4158 - acc: 0.91 - ETA: 19s - loss: 0.4109 - acc: 0.91 - ETA: 19s - loss: 0.4109 - acc: 0.91 - ETA: 18s - loss: 0.4066 - acc: 0.92 - ETA: 18s - loss: 0.4118 - acc: 0.92 - ETA: 18s - loss: 0.4177 - acc: 0.91 - ETA: 18s - loss: 0.4262 - acc: 0.91 - ETA: 18s - loss: 0.4242 - acc: 0.91 - ETA: 17s - loss: 0.4248 - acc: 0.91 - ETA: 17s - loss: 0.4329 - acc: 0.90 - ETA: 17s - loss: 0.4304 - acc: 0.91 - ETA: 17s - loss: 0.4324 - acc: 0.90 - ETA: 16s - loss: 0.4284 - acc: 0.90 - ETA: 16s - loss: 0.4447 - acc: 0.90 - ETA: 16s - loss: 0.4495 - acc: 0.89 - ETA: 16s - loss: 0.4463 - acc: 0.90 - ETA: 16s - loss: 0.4482 - acc: 0.90 - ETA: 15s - loss: 0.4512 - acc: 0.90 - ETA: 15s - loss: 0.4524 - acc: 0.90 - ETA: 15s - loss: 0.4524 - acc: 0.90 - ETA: 15s - loss: 0.4478 - acc: 0.90 - ETA: 15s - loss: 0.4438 - acc: 0.90 - ETA: 14s - loss: 0.4426 - acc: 0.90 - ETA: 14s - loss: 0.4455 - acc: 0.90 - ETA: 14s - loss: 0.4455 - acc: 0.90 - ETA: 14s - loss: 0.4491 - acc: 0.90 - ETA: 14s - loss: 0.4513 - acc: 0.90 - ETA: 13s - loss: 0.4502 - acc: 0.90 - ETA: 13s - loss: 0.4518 - acc: 0.90 - ETA: 13s - loss: 0.4519 - acc: 0.90 - ETA: 13s - loss: 0.4534 - acc: 0.90 - ETA: 13s - loss: 0.4577 - acc: 0.90 - ETA: 13s - loss: 0.4612 - acc: 0.90 - ETA: 12s - loss: 0.4599 - acc: 0.90 - ETA: 12s - loss: 0.4601 - acc: 0.90 - ETA: 12s - loss: 0.4596 - acc: 0.90 - ETA: 12s - loss: 0.4600 - acc: 0.90 - ETA: 12s - loss: 0.4618 - acc: 0.90 - ETA: 12s - loss: 0.4643 - acc: 0.90 - ETA: 11s - loss: 0.4635 - acc: 0.90 - ETA: 11s - loss: 0.4619 - acc: 0.90 - ETA: 11s - loss: 0.4619 - acc: 0.90 - ETA: 11s - loss: 0.4611 - acc: 0.90 - ETA: 11s - loss: 0.4606 - acc: 0.90 - ETA: 10s - loss: 0.4597 - acc: 0.90 - ETA: 10s - loss: 0.4604 - acc: 0.90 - ETA: 10s - loss: 0.4585 - acc: 0.90 - ETA: 10s - loss: 0.4573 - acc: 0.90 - ETA: 10s - loss: 0.4581 - acc: 0.90 - ETA: 9s - loss: 0.4602 - acc: 0.9015 - ETA: 9s - loss: 0.4580 - acc: 0.902 - ETA: 9s - loss: 0.4594 - acc: 0.901 - ETA: 9s - loss: 0.4605 - acc: 0.900 - ETA: 9s - loss: 0.4618 - acc: 0.900 - ETA: 9s - loss: 0.4613 - acc: 0.899 - ETA: 8s - loss: 0.4639 - acc: 0.898 - ETA: 8s - loss: 0.4619 - acc: 0.900 - ETA: 8s - loss: 0.4620 - acc: 0.899 - ETA: 8s - loss: 0.4654 - acc: 0.898 - ETA: 8s - loss: 0.4661 - acc: 0.898 - ETA: 7s - loss: 0.4655 - acc: 0.899 - ETA: 7s - loss: 0.4662 - acc: 0.898 - ETA: 7s - loss: 0.4679 - acc: 0.898 - ETA: 7s - loss: 0.4667 - acc: 0.899 - ETA: 7s - loss: 0.4665 - acc: 0.899 - ETA: 6s - loss: 0.4672 - acc: 0.898 - ETA: 6s - loss: 0.4681 - acc: 0.897 - ETA: 6s - loss: 0.4683 - acc: 0.898 - ETA: 6s - loss: 0.4664 - acc: 0.899 - ETA: 6s - loss: 0.4660 - acc: 0.899 - ETA: 6s - loss: 0.4665 - acc: 0.898 - ETA: 5s - loss: 0.4678 - acc: 0.898 - ETA: 5s - loss: 0.4657 - acc: 0.899 - ETA: 5s - loss: 0.4660 - acc: 0.898 - ETA: 5s - loss: 0.4643 - acc: 0.899 - ETA: 5s - loss: 0.4634 - acc: 0.900 - ETA: 5s - loss: 0.4630 - acc: 0.900 - ETA: 4s - loss: 0.4648 - acc: 0.899 - ETA: 4s - loss: 0.4651 - acc: 0.899 - ETA: 4s - loss: 0.4639 - acc: 0.899 - ETA: 4s - loss: 0.4643 - acc: 0.899 - ETA: 4s - loss: 0.4636 - acc: 0.899 - ETA: 3s - loss: 0.4636 - acc: 0.898 - ETA: 3s - loss: 0.4626 - acc: 0.899 - ETA: 3s - loss: 0.4614 - acc: 0.900 - ETA: 3s - loss: 0.4608 - acc: 0.900 - ETA: 3s - loss: 0.4613 - acc: 0.899 - ETA: 3s - loss: 0.4621 - acc: 0.899 - ETA: 2s - loss: 0.4659 - acc: 0.897 - ETA: 2s - loss: 0.4701 - acc: 0.895 - ETA: 2s - loss: 0.4745 - acc: 0.892 - ETA: 2s - loss: 0.4777 - acc: 0.889 - ETA: 2s - loss: 0.4792 - acc: 0.888 - ETA: 2s - loss: 0.4807 - acc: 0.887 - ETA: 1s - loss: 0.4843 - acc: 0.885 - ETA: 1s - loss: 0.4888 - acc: 0.883 - ETA: 1s - loss: 0.4901 - acc: 0.883 - ETA: 1s - loss: 0.4942 - acc: 0.880 - ETA: 1s - loss: 0.4987 - acc: 0.877 - ETA: 0s - loss: 0.5013 - acc: 0.875 - ETA: 0s - loss: 0.5012 - acc: 0.875 - ETA: 0s - loss: 0.5023 - acc: 0.874 - ETA: 0s - loss: 0.5040 - acc: 0.873 - ETA: 0s - loss: 0.5055 - acc: 0.872 - ETA: 0s - loss: 0.5074 - acc: 0.871 - 20s 5ms/sample - loss: 0.5096 - acc: 0.8708\n",
            "Test accuracy:  0.8708356\n",
            "Test loss:  0.5095702535399057\n"
          ],
          "name": "stdout"
        }
      ]
    },
    {
      "cell_type": "code",
      "metadata": {
        "id": "CRvTbJBg_zFm",
        "colab_type": "code",
        "colab": {},
        "outputId": "3ca6bbc7-1c9c-43a9-c3e0-2567f3a22fb5"
      },
      "source": [
        "y[0:10]"
      ],
      "execution_count": 0,
      "outputs": [
        {
          "output_type": "execute_result",
          "data": {
            "text/plain": [
              "array([[0., 0., 1., 0., 0.],\n",
              "       [1., 0., 0., 0., 0.],\n",
              "       [1., 0., 0., 0., 0.],\n",
              "       [1., 0., 0., 0., 0.],\n",
              "       [0., 1., 0., 0., 0.],\n",
              "       [0., 0., 1., 0., 0.],\n",
              "       [1., 0., 0., 0., 0.],\n",
              "       [1., 0., 0., 0., 0.],\n",
              "       [1., 0., 0., 0., 0.],\n",
              "       [0., 1., 0., 0., 0.]], dtype=float32)"
            ]
          },
          "metadata": {
            "tags": []
          },
          "execution_count": 20
        }
      ]
    },
    {
      "cell_type": "code",
      "metadata": {
        "id": "9stN4aTZ_zFp",
        "colab_type": "code",
        "colab": {},
        "outputId": "0069efd1-2cd7-4319-a4cd-bf821727ee1a"
      },
      "source": [
        "# Predict the probabilities for each class \n",
        "model.predict(X[[0],:])"
      ],
      "execution_count": 0,
      "outputs": [
        {
          "output_type": "execute_result",
          "data": {
            "text/plain": [
              "array([[0.02899703, 0.15646192, 0.35071576, 0.32050017, 0.14332515]],\n",
              "      dtype=float32)"
            ]
          },
          "metadata": {
            "tags": []
          },
          "execution_count": 21
        }
      ]
    },
    {
      "cell_type": "code",
      "metadata": {
        "id": "0iatDba5_zFw",
        "colab_type": "code",
        "colab": {}
      },
      "source": [
        "# type(history)"
      ],
      "execution_count": 0,
      "outputs": []
    },
    {
      "cell_type": "code",
      "metadata": {
        "id": "yDmDsHGE_zFy",
        "colab_type": "code",
        "colab": {}
      },
      "source": [
        ""
      ],
      "execution_count": 0,
      "outputs": []
    },
    {
      "cell_type": "code",
      "metadata": {
        "id": "ljYUuTCh_zFz",
        "colab_type": "code",
        "colab": {}
      },
      "source": [
        ""
      ],
      "execution_count": 0,
      "outputs": []
    }
  ]
}